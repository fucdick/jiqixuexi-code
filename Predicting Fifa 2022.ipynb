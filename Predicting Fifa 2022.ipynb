{
 "cells": [
  {
   "cell_type": "markdown",
   "source": [
    "Sklearn (全称 Scikit-Learn) 是基于 Python 语言的机器学习工具。它建立在 NumPy, SciPy, Pandas 和 Matplotlib 之上，里面的 API 的设计非常好，所有对象的接口简单，很适合新手上路。"
   ],
   "metadata": {
    "collapsed": false
   }
  },
  {
   "cell_type": "markdown",
   "source": [
    "足球比赛涉及的因素非常繁多，我无法将所有因素都融入机器学习模型中。本文只是一个黑客想用数据尝试一些很酷的东西。本文的目标是：\n",
    "\n",
    "用机器学习来预测谁将赢得2022 FIFA世界杯的冠军；\n",
    "\n",
    "预测整个比赛的小组赛结果；\n",
    "\n",
    "模拟四分之一决赛、半决赛以及决赛。\n",
    "\n",
    "这些目标代表了独一无二的现实世界里机器学习的预测问题，并将解决机器学习中的各种任务：数据集成、特征建模和结果预测。"
   ],
   "metadata": {
    "collapsed": false
   }
  },
  {
   "cell_type": "markdown",
   "source": [
    "首先，我们要针对两个数据集做探索性分析，然后经过特征工程来选择与预测关联性最强的特征，还有数据处理，再选择一个机器学习模型，最后将模型配置到数据集上。"
   ],
   "metadata": {
    "collapsed": false
   }
  },
  {
   "cell_type": "markdown",
   "source": [
    "首先，导入所需的代码库，并将数据集加载到数据框中："
   ],
   "metadata": {
    "collapsed": false
   }
  },
  {
   "cell_type": "code",
   "execution_count": null,
   "metadata": {
    "pycharm": {
     "is_executing": true
    }
   },
   "outputs": [],
   "source": [
    "import pandas as pd\n",
    "import numpy as np\n",
    "import matplotlib.pyplot as plt\n",
    "import seaborn as sns\n",
    "from sklearn.model_selection import train_test_split\n",
    "from sklearn.linear_model import LogisticRegression"
   ]
  },
  {
   "cell_type": "markdown",
   "source": [
    "导入数据集："
   ],
   "metadata": {
    "collapsed": false
   }
  },
  {
   "cell_type": "code",
   "execution_count": null,
   "metadata": {
    "pycharm": {
     "is_executing": true
    }
   },
   "outputs": [],
   "source": [
    "world_cup = pd.read_csv('datasets/2022_world_cup_matches.csv ')\n",
    "results = pd.read_csv('results.csv')"
   ]
  },
  {
   "cell_type": "markdown",
   "source": [
    "下一步是加载数据集。通过调用 world_cup.head() 和 results.head() ，务必将两个数据集都加载到数据框中，如下所示："
   ],
   "metadata": {
    "collapsed": false
   }
  },
  {
   "cell_type": "code",
   "execution_count": 3,
   "metadata": {},
   "outputs": [
    {
     "data": {
      "text/plain": "    ID  Year        Date           Stage Home Team Away Team Host Team\n0    1  2022  2022/11/20     Group stage       卡塔尔      厄瓜多尔      True\n1    2  2022  2022/11/21     Group stage      塞内加尔        荷兰     False\n2    3  2022  2022/11/21     Group stage       英格兰        伊朗     False\n3    4  2022  2022/11/21     Group stage        美国       威尔士     False\n4    5  2022  2022/11/22     Group stage        法国      澳大利亚     False\n..  ..   ...         ...             ...       ...       ...       ...\n59  60  2022  2022/12/10  Quarter-finals       W55       W56       NaN\n60  61  2022  2022/12/13     Semi-finals       W57       W58       NaN\n61  62  2022  2022/12/14     Semi-finals       W59       W60       NaN\n62  63  2022  2022/12/17     Third place       L61       L62       NaN\n63  64  2022  2022/12/18           Final       W61       W62       NaN\n\n[64 rows x 7 columns]",
      "text/html": "<div>\n<style scoped>\n    .dataframe tbody tr th:only-of-type {\n        vertical-align: middle;\n    }\n\n    .dataframe tbody tr th {\n        vertical-align: top;\n    }\n\n    .dataframe thead th {\n        text-align: right;\n    }\n</style>\n<table border=\"1\" class=\"dataframe\">\n  <thead>\n    <tr style=\"text-align: right;\">\n      <th></th>\n      <th>ID</th>\n      <th>Year</th>\n      <th>Date</th>\n      <th>Stage</th>\n      <th>Home Team</th>\n      <th>Away Team</th>\n      <th>Host Team</th>\n    </tr>\n  </thead>\n  <tbody>\n    <tr>\n      <th>0</th>\n      <td>1</td>\n      <td>2022</td>\n      <td>2022/11/20</td>\n      <td>Group stage</td>\n      <td>卡塔尔</td>\n      <td>厄瓜多尔</td>\n      <td>True</td>\n    </tr>\n    <tr>\n      <th>1</th>\n      <td>2</td>\n      <td>2022</td>\n      <td>2022/11/21</td>\n      <td>Group stage</td>\n      <td>塞内加尔</td>\n      <td>荷兰</td>\n      <td>False</td>\n    </tr>\n    <tr>\n      <th>2</th>\n      <td>3</td>\n      <td>2022</td>\n      <td>2022/11/21</td>\n      <td>Group stage</td>\n      <td>英格兰</td>\n      <td>伊朗</td>\n      <td>False</td>\n    </tr>\n    <tr>\n      <th>3</th>\n      <td>4</td>\n      <td>2022</td>\n      <td>2022/11/21</td>\n      <td>Group stage</td>\n      <td>美国</td>\n      <td>威尔士</td>\n      <td>False</td>\n    </tr>\n    <tr>\n      <th>4</th>\n      <td>5</td>\n      <td>2022</td>\n      <td>2022/11/22</td>\n      <td>Group stage</td>\n      <td>法国</td>\n      <td>澳大利亚</td>\n      <td>False</td>\n    </tr>\n    <tr>\n      <th>...</th>\n      <td>...</td>\n      <td>...</td>\n      <td>...</td>\n      <td>...</td>\n      <td>...</td>\n      <td>...</td>\n      <td>...</td>\n    </tr>\n    <tr>\n      <th>59</th>\n      <td>60</td>\n      <td>2022</td>\n      <td>2022/12/10</td>\n      <td>Quarter-finals</td>\n      <td>W55</td>\n      <td>W56</td>\n      <td>NaN</td>\n    </tr>\n    <tr>\n      <th>60</th>\n      <td>61</td>\n      <td>2022</td>\n      <td>2022/12/13</td>\n      <td>Semi-finals</td>\n      <td>W57</td>\n      <td>W58</td>\n      <td>NaN</td>\n    </tr>\n    <tr>\n      <th>61</th>\n      <td>62</td>\n      <td>2022</td>\n      <td>2022/12/14</td>\n      <td>Semi-finals</td>\n      <td>W59</td>\n      <td>W60</td>\n      <td>NaN</td>\n    </tr>\n    <tr>\n      <th>62</th>\n      <td>63</td>\n      <td>2022</td>\n      <td>2022/12/17</td>\n      <td>Third place</td>\n      <td>L61</td>\n      <td>L62</td>\n      <td>NaN</td>\n    </tr>\n    <tr>\n      <th>63</th>\n      <td>64</td>\n      <td>2022</td>\n      <td>2022/12/18</td>\n      <td>Final</td>\n      <td>W61</td>\n      <td>W62</td>\n      <td>NaN</td>\n    </tr>\n  </tbody>\n</table>\n<p>64 rows × 7 columns</p>\n</div>"
     },
     "execution_count": 3,
     "metadata": {},
     "output_type": "execute_result"
    }
   ],
   "source": [
    "world_cup"
   ]
  },
  {
   "cell_type": "code",
   "execution_count": 4,
   "metadata": {},
   "outputs": [
    {
     "data": {
      "text/plain": "         date home_team       away_team  home_score  away_score\n0  1970-01-04     Malta      Luxembourg           1           1\n1  1970-01-14       英格兰              荷兰           0           0\n2  1970-01-28    Israel              荷兰           0           1\n3  1970-02-04      Peru  Czechoslovakia           0           2\n4  1970-02-06       喀麦隆     Ivory Coast           3           2",
      "text/html": "<div>\n<style scoped>\n    .dataframe tbody tr th:only-of-type {\n        vertical-align: middle;\n    }\n\n    .dataframe tbody tr th {\n        vertical-align: top;\n    }\n\n    .dataframe thead th {\n        text-align: right;\n    }\n</style>\n<table border=\"1\" class=\"dataframe\">\n  <thead>\n    <tr style=\"text-align: right;\">\n      <th></th>\n      <th>date</th>\n      <th>home_team</th>\n      <th>away_team</th>\n      <th>home_score</th>\n      <th>away_score</th>\n    </tr>\n  </thead>\n  <tbody>\n    <tr>\n      <th>0</th>\n      <td>1970-01-04</td>\n      <td>Malta</td>\n      <td>Luxembourg</td>\n      <td>1</td>\n      <td>1</td>\n    </tr>\n    <tr>\n      <th>1</th>\n      <td>1970-01-14</td>\n      <td>英格兰</td>\n      <td>荷兰</td>\n      <td>0</td>\n      <td>0</td>\n    </tr>\n    <tr>\n      <th>2</th>\n      <td>1970-01-28</td>\n      <td>Israel</td>\n      <td>荷兰</td>\n      <td>0</td>\n      <td>1</td>\n    </tr>\n    <tr>\n      <th>3</th>\n      <td>1970-02-04</td>\n      <td>Peru</td>\n      <td>Czechoslovakia</td>\n      <td>0</td>\n      <td>2</td>\n    </tr>\n    <tr>\n      <th>4</th>\n      <td>1970-02-06</td>\n      <td>喀麦隆</td>\n      <td>Ivory Coast</td>\n      <td>3</td>\n      <td>2</td>\n    </tr>\n  </tbody>\n</table>\n</div>"
     },
     "execution_count": 4,
     "metadata": {},
     "output_type": "execute_result"
    }
   ],
   "source": [
    "results.head()      # 读取5行数据"
   ]
  },
  {
   "cell_type": "markdown",
   "source": [],
   "metadata": {
    "collapsed": false
   }
  },
  {
   "cell_type": "markdown",
   "source": [
    "探索性分析和特征工程：需要建立与机器学习模型相关的特征，在任何数据科学的项目中，这部分工作都是最耗时的。"
   ],
   "metadata": {
    "collapsed": false
   }
  },
  {
   "cell_type": "markdown",
   "source": [
    "现在我们把目标差异和结果列添加到结果数据集："
   ],
   "metadata": {
    "collapsed": false
   }
  },
  {
   "cell_type": "code",
   "execution_count": 5,
   "metadata": {
    "scrolled": true
   },
   "outputs": [
    {
     "data": {
      "text/plain": "         date home_team       away_team  home_score  away_score  \\\n0  1970-01-04     Malta      Luxembourg           1           1   \n1  1970-01-14       英格兰              荷兰           0           0   \n2  1970-01-28    Israel              荷兰           0           1   \n3  1970-02-04      Peru  Czechoslovakia           0           2   \n4  1970-02-06       喀麦隆     Ivory Coast           3           2   \n\n     winning_team  goal_difference  \n0            Draw                0  \n1            Draw                0  \n2              荷兰                1  \n3  Czechoslovakia                2  \n4             喀麦隆                1  ",
      "text/html": "<div>\n<style scoped>\n    .dataframe tbody tr th:only-of-type {\n        vertical-align: middle;\n    }\n\n    .dataframe tbody tr th {\n        vertical-align: top;\n    }\n\n    .dataframe thead th {\n        text-align: right;\n    }\n</style>\n<table border=\"1\" class=\"dataframe\">\n  <thead>\n    <tr style=\"text-align: right;\">\n      <th></th>\n      <th>date</th>\n      <th>home_team</th>\n      <th>away_team</th>\n      <th>home_score</th>\n      <th>away_score</th>\n      <th>winning_team</th>\n      <th>goal_difference</th>\n    </tr>\n  </thead>\n  <tbody>\n    <tr>\n      <th>0</th>\n      <td>1970-01-04</td>\n      <td>Malta</td>\n      <td>Luxembourg</td>\n      <td>1</td>\n      <td>1</td>\n      <td>Draw</td>\n      <td>0</td>\n    </tr>\n    <tr>\n      <th>1</th>\n      <td>1970-01-14</td>\n      <td>英格兰</td>\n      <td>荷兰</td>\n      <td>0</td>\n      <td>0</td>\n      <td>Draw</td>\n      <td>0</td>\n    </tr>\n    <tr>\n      <th>2</th>\n      <td>1970-01-28</td>\n      <td>Israel</td>\n      <td>荷兰</td>\n      <td>0</td>\n      <td>1</td>\n      <td>荷兰</td>\n      <td>1</td>\n    </tr>\n    <tr>\n      <th>3</th>\n      <td>1970-02-04</td>\n      <td>Peru</td>\n      <td>Czechoslovakia</td>\n      <td>0</td>\n      <td>2</td>\n      <td>Czechoslovakia</td>\n      <td>2</td>\n    </tr>\n    <tr>\n      <th>4</th>\n      <td>1970-02-06</td>\n      <td>喀麦隆</td>\n      <td>Ivory Coast</td>\n      <td>3</td>\n      <td>2</td>\n      <td>喀麦隆</td>\n      <td>1</td>\n    </tr>\n  </tbody>\n</table>\n</div>"
     },
     "execution_count": 5,
     "metadata": {},
     "output_type": "execute_result"
    }
   ],
   "source": [
    "# Adding goal difference and establishing who is the winner\n",
    "winner = []\n",
    "for i in range (len(results['home_team'])):         # 主场遍历\n",
    "     # 如果主场得分大于客场得分\n",
    "    if results ['home_score'][i] > results['away_score'][i]:\n",
    "        # 把主场国家添加到获胜列当中\n",
    "        winner.append(results['home_team'][i])\n",
    "        # 如果小于\n",
    "    elif results['home_score'][i] < results ['away_score'][i]:\n",
    "        # 把客场加进去\n",
    "        winner.append(results['away_team'][i])\n",
    "    else:\n",
    "        # 相等则平局\n",
    "        winner.append('Draw')\n",
    "\n",
    "# 添加一列记录获胜情况\n",
    "results['winning_team'] = winner\n",
    "\n",
    "#adding goal difference column：求得分差\n",
    "#np.absolute:求绝对值\n",
    "results['goal_difference'] = np.absolute(results['home_score'] - results['away_score'])\n",
    "\n",
    "'''检查一下新的结果数据框：'''\n",
    "results.head()"
   ]
  },
  {
   "cell_type": "markdown",
   "source": [
    "然后我们着手处理仅包含输入的国家参加比赛的一组数据（这可以帮助我们集中找出哪些特征对一个国家有效，随后再扩展到参与世界杯的所有国家）："
   ],
   "metadata": {
    "collapsed": false
   }
  },
  {
   "cell_type": "code",
   "execution_count": 6,
   "metadata": {},
   "outputs": [
    {
     "data": {
      "text/plain": "           date home_team away_team  home_score  away_score winning_team  \\\n85   1970-05-10       葡萄牙       意大利           1           2          意大利   \n226  1970-10-14        丹麦       葡萄牙           0           1          葡萄牙   \n331  1971-02-17       比利时       葡萄牙           3           0          比利时   \n355  1971-04-21       葡萄牙  Scotland           2           0          葡萄牙   \n385  1971-05-12       葡萄牙        丹麦           5           0          葡萄牙   \n\n     goal_difference  \n85                 1  \n226                1  \n331                3  \n355                2  \n385                5  ",
      "text/html": "<div>\n<style scoped>\n    .dataframe tbody tr th:only-of-type {\n        vertical-align: middle;\n    }\n\n    .dataframe tbody tr th {\n        vertical-align: top;\n    }\n\n    .dataframe thead th {\n        text-align: right;\n    }\n</style>\n<table border=\"1\" class=\"dataframe\">\n  <thead>\n    <tr style=\"text-align: right;\">\n      <th></th>\n      <th>date</th>\n      <th>home_team</th>\n      <th>away_team</th>\n      <th>home_score</th>\n      <th>away_score</th>\n      <th>winning_team</th>\n      <th>goal_difference</th>\n    </tr>\n  </thead>\n  <tbody>\n    <tr>\n      <th>85</th>\n      <td>1970-05-10</td>\n      <td>葡萄牙</td>\n      <td>意大利</td>\n      <td>1</td>\n      <td>2</td>\n      <td>意大利</td>\n      <td>1</td>\n    </tr>\n    <tr>\n      <th>226</th>\n      <td>1970-10-14</td>\n      <td>丹麦</td>\n      <td>葡萄牙</td>\n      <td>0</td>\n      <td>1</td>\n      <td>葡萄牙</td>\n      <td>1</td>\n    </tr>\n    <tr>\n      <th>331</th>\n      <td>1971-02-17</td>\n      <td>比利时</td>\n      <td>葡萄牙</td>\n      <td>3</td>\n      <td>0</td>\n      <td>比利时</td>\n      <td>3</td>\n    </tr>\n    <tr>\n      <th>355</th>\n      <td>1971-04-21</td>\n      <td>葡萄牙</td>\n      <td>Scotland</td>\n      <td>2</td>\n      <td>0</td>\n      <td>葡萄牙</td>\n      <td>2</td>\n    </tr>\n    <tr>\n      <th>385</th>\n      <td>1971-05-12</td>\n      <td>葡萄牙</td>\n      <td>丹麦</td>\n      <td>5</td>\n      <td>0</td>\n      <td>葡萄牙</td>\n      <td>5</td>\n    </tr>\n  </tbody>\n</table>\n</div>"
     },
     "execution_count": 6,
     "metadata": {},
     "output_type": "execute_result"
    }
   ],
   "source": [
    "# 定义一个DataFrame来接收Nation国家主场和客场的数据\n",
    "Nation = input()\n",
    "df = results[(results['home_team'] == Nation) | (results['away_team'] == Nation)]\n",
    "Country = df.iloc[:]\n",
    "Country.head()"
   ]
  },
  {
   "cell_type": "markdown",
   "source": [
    "过于久远的比赛对我们来说没有参考意义。我们为年份创建一列，并选择所有 1970 年之后举行的比赛："
   ],
   "metadata": {
    "collapsed": false
   }
  },
  {
   "cell_type": "code",
   "execution_count": 7,
   "metadata": {},
   "outputs": [
    {
     "name": "stdout",
     "output_type": "stream",
     "text": [
      "437\n"
     ]
    },
    {
     "data": {
      "text/plain": "date               437\nhome_team          437\naway_team          437\nhome_score         437\naway_score         437\nwinning_team       437\ngoal_difference    437\nmatch_year         437\ndtype: int64"
     },
     "execution_count": 7,
     "metadata": {},
     "output_type": "execute_result"
    }
   ],
   "source": [
    "year = []\n",
    "for row in Country['date']:\n",
    "    # 因为此时的row为1970-03-23，我们只需要前四个数字\n",
    "    year.append(int(row[:4]))\n",
    "print(len(year))\n",
    "#添加match_year:比赛年份  用来筛选1970年后的比赛\n",
    "Country ['match_year']= year\n",
    "\n",
    "Country_1970 = Country[Country.match_year >= 1970]\n",
    "Country_1970.count()        # count:一个数列中非na元素的个数。"
   ]
  },
  {
   "cell_type": "code",
   "execution_count": 8,
   "outputs": [
    {
     "data": {
      "text/plain": "             date home_team away_team  home_score  away_score winning_team  \\\n85     1970-05-10       葡萄牙       意大利           1           2          意大利   \n226    1970-10-14        丹麦       葡萄牙           0           1          葡萄牙   \n331    1971-02-17       比利时       葡萄牙           3           0          比利时   \n355    1971-04-21       葡萄牙  Scotland           2           0          葡萄牙   \n385    1971-05-12       葡萄牙        丹麦           5           0          葡萄牙   \n...           ...       ...       ...         ...         ...          ...   \n31293  2017-10-10       葡萄牙        瑞士           2           0          葡萄牙   \n31330  2017-11-10       葡萄牙     沙特阿拉伯           3           0          葡萄牙   \n31392  2017-11-14       葡萄牙        美国           1           1         Draw   \n31513  2018-03-23       葡萄牙     Egypt           2           1          葡萄牙   \n31565  2018-03-26       葡萄牙        荷兰           0           3           荷兰   \n\n       goal_difference  match_year  \n85                   1        1970  \n226                  1        1970  \n331                  3        1971  \n355                  2        1971  \n385                  5        1971  \n...                ...         ...  \n31293                2        2017  \n31330                3        2017  \n31392                0        2017  \n31513                1        2018  \n31565                3        2018  \n\n[437 rows x 8 columns]",
      "text/html": "<div>\n<style scoped>\n    .dataframe tbody tr th:only-of-type {\n        vertical-align: middle;\n    }\n\n    .dataframe tbody tr th {\n        vertical-align: top;\n    }\n\n    .dataframe thead th {\n        text-align: right;\n    }\n</style>\n<table border=\"1\" class=\"dataframe\">\n  <thead>\n    <tr style=\"text-align: right;\">\n      <th></th>\n      <th>date</th>\n      <th>home_team</th>\n      <th>away_team</th>\n      <th>home_score</th>\n      <th>away_score</th>\n      <th>winning_team</th>\n      <th>goal_difference</th>\n      <th>match_year</th>\n    </tr>\n  </thead>\n  <tbody>\n    <tr>\n      <th>85</th>\n      <td>1970-05-10</td>\n      <td>葡萄牙</td>\n      <td>意大利</td>\n      <td>1</td>\n      <td>2</td>\n      <td>意大利</td>\n      <td>1</td>\n      <td>1970</td>\n    </tr>\n    <tr>\n      <th>226</th>\n      <td>1970-10-14</td>\n      <td>丹麦</td>\n      <td>葡萄牙</td>\n      <td>0</td>\n      <td>1</td>\n      <td>葡萄牙</td>\n      <td>1</td>\n      <td>1970</td>\n    </tr>\n    <tr>\n      <th>331</th>\n      <td>1971-02-17</td>\n      <td>比利时</td>\n      <td>葡萄牙</td>\n      <td>3</td>\n      <td>0</td>\n      <td>比利时</td>\n      <td>3</td>\n      <td>1971</td>\n    </tr>\n    <tr>\n      <th>355</th>\n      <td>1971-04-21</td>\n      <td>葡萄牙</td>\n      <td>Scotland</td>\n      <td>2</td>\n      <td>0</td>\n      <td>葡萄牙</td>\n      <td>2</td>\n      <td>1971</td>\n    </tr>\n    <tr>\n      <th>385</th>\n      <td>1971-05-12</td>\n      <td>葡萄牙</td>\n      <td>丹麦</td>\n      <td>5</td>\n      <td>0</td>\n      <td>葡萄牙</td>\n      <td>5</td>\n      <td>1971</td>\n    </tr>\n    <tr>\n      <th>...</th>\n      <td>...</td>\n      <td>...</td>\n      <td>...</td>\n      <td>...</td>\n      <td>...</td>\n      <td>...</td>\n      <td>...</td>\n      <td>...</td>\n    </tr>\n    <tr>\n      <th>31293</th>\n      <td>2017-10-10</td>\n      <td>葡萄牙</td>\n      <td>瑞士</td>\n      <td>2</td>\n      <td>0</td>\n      <td>葡萄牙</td>\n      <td>2</td>\n      <td>2017</td>\n    </tr>\n    <tr>\n      <th>31330</th>\n      <td>2017-11-10</td>\n      <td>葡萄牙</td>\n      <td>沙特阿拉伯</td>\n      <td>3</td>\n      <td>0</td>\n      <td>葡萄牙</td>\n      <td>3</td>\n      <td>2017</td>\n    </tr>\n    <tr>\n      <th>31392</th>\n      <td>2017-11-14</td>\n      <td>葡萄牙</td>\n      <td>美国</td>\n      <td>1</td>\n      <td>1</td>\n      <td>Draw</td>\n      <td>0</td>\n      <td>2017</td>\n    </tr>\n    <tr>\n      <th>31513</th>\n      <td>2018-03-23</td>\n      <td>葡萄牙</td>\n      <td>Egypt</td>\n      <td>2</td>\n      <td>1</td>\n      <td>葡萄牙</td>\n      <td>1</td>\n      <td>2018</td>\n    </tr>\n    <tr>\n      <th>31565</th>\n      <td>2018-03-26</td>\n      <td>葡萄牙</td>\n      <td>荷兰</td>\n      <td>0</td>\n      <td>3</td>\n      <td>荷兰</td>\n      <td>3</td>\n      <td>2018</td>\n    </tr>\n  </tbody>\n</table>\n<p>437 rows × 8 columns</p>\n</div>"
     },
     "execution_count": 8,
     "metadata": {},
     "output_type": "execute_result"
    }
   ],
   "source": [
    "Country_1970"
   ],
   "metadata": {
    "collapsed": false
   }
  },
  {
   "cell_type": "markdown",
   "source": [
    "现在我们可以用图形表示这些年来表示输入国家的最普遍的比赛结果："
   ],
   "metadata": {
    "collapsed": false
   }
  },
  {
   "cell_type": "code",
   "execution_count": 9,
   "metadata": {},
   "outputs": [
    {
     "data": {
      "text/plain": "<AxesSubplot:xlabel='Country_Results', ylabel='count'>"
     },
     "execution_count": 9,
     "metadata": {},
     "output_type": "execute_result"
    },
    {
     "data": {
      "text/plain": "<Figure size 1070x627 with 1 Axes>",
      "image/png": "[encoded data removed]"
     },
     "metadata": {},
     "output_type": "display_data"
    }
   ],
   "source": [
    "#what is the common game outcome for nigeria visualisation\n",
    "wins = []\n",
    "# 遍历（winning_team)获胜队伍列\n",
    "for row in Country_1970['winning_team']:\n",
    "    #如果获胜者是不是Nigeria和不是平局判定为输\n",
    "    #即把输的从国家改为loss\n",
    "    if row != Nation and row != 'Draw':\n",
    "        wins.append('输')     #判定为输，平局不算输\n",
    "    elif row == 'Draw':\n",
    "        wins.append('平局')        # 把平局和获胜加进去\n",
    "    else:\n",
    "        wins.append(\"赢\")\n",
    "winsdf= pd.DataFrame(wins, columns=[ 'Country_Results'])\n",
    "\n",
    "'''用图显示出来'''\n",
    "#plotting\n",
    "plt.rc(\"font\", family='FangSong')\n",
    "fig, ax = plt.subplots(1)\n",
    "fig.set_size_inches(10.7, 6.27)\n",
    "sns.set(style='darkgrid')\n",
    "# sns.set_style(\"whitegrid\")\n",
    "sns.countplot(x='Country_Results', data=winsdf)"
   ]
  },
  {
   "cell_type": "code",
   "execution_count": 10,
   "outputs": [
    {
     "data": {
      "text/plain": "    Country_Results\n0                 输\n1                 赢\n2                 输\n3                 赢\n4                 赢\n..              ...\n432               赢\n433               赢\n434              平局\n435               赢\n436               输\n\n[437 rows x 1 columns]",
      "text/html": "<div>\n<style scoped>\n    .dataframe tbody tr th:only-of-type {\n        vertical-align: middle;\n    }\n\n    .dataframe tbody tr th {\n        vertical-align: top;\n    }\n\n    .dataframe thead th {\n        text-align: right;\n    }\n</style>\n<table border=\"1\" class=\"dataframe\">\n  <thead>\n    <tr style=\"text-align: right;\">\n      <th></th>\n      <th>Country_Results</th>\n    </tr>\n  </thead>\n  <tbody>\n    <tr>\n      <th>0</th>\n      <td>输</td>\n    </tr>\n    <tr>\n      <th>1</th>\n      <td>赢</td>\n    </tr>\n    <tr>\n      <th>2</th>\n      <td>输</td>\n    </tr>\n    <tr>\n      <th>3</th>\n      <td>赢</td>\n    </tr>\n    <tr>\n      <th>4</th>\n      <td>赢</td>\n    </tr>\n    <tr>\n      <th>...</th>\n      <td>...</td>\n    </tr>\n    <tr>\n      <th>432</th>\n      <td>赢</td>\n    </tr>\n    <tr>\n      <th>433</th>\n      <td>赢</td>\n    </tr>\n    <tr>\n      <th>434</th>\n      <td>平局</td>\n    </tr>\n    <tr>\n      <th>435</th>\n      <td>赢</td>\n    </tr>\n    <tr>\n      <th>436</th>\n      <td>输</td>\n    </tr>\n  </tbody>\n</table>\n<p>437 rows × 1 columns</p>\n</div>"
     },
     "execution_count": 10,
     "metadata": {},
     "output_type": "execute_result"
    }
   ],
   "source": [
    "winsdf"
   ],
   "metadata": {
    "collapsed": false
   }
  },
  {
   "cell_type": "code",
   "execution_count": 11,
   "metadata": {},
   "outputs": [
    {
     "data": {
      "text/plain": "'\\n获胜是分析和预测比赛结果的一个很好的指标\\n比赛和场地对我们的预测没有多大影响\\n将使用历史匹配记录\\n'"
     },
     "execution_count": 11,
     "metadata": {},
     "output_type": "execute_result"
    }
   ],
   "source": [
    "'''\n",
    "获胜是分析和预测比赛结果的一个很好的指标\n",
    "比赛和场地对我们的预测没有多大影响\n",
    "将使用历史匹配记录\n",
    "'''"
   ]
  },
  {
   "cell_type": "markdown",
   "source": [
    "我们为2022世界杯所有参赛队伍创建一个数据框，然后从该数据框中进一步筛选出从 1970 年起参加世界杯的队伍，并去掉重复的队伍："
   ],
   "metadata": {
    "collapsed": false
   }
  },
  {
   "cell_type": "code",
   "execution_count": 12,
   "outputs": [
    {
     "data": {
      "text/plain": "             date   home_team       away_team  home_score  away_score  \\\n0      1970-01-04       Malta      Luxembourg           1           1   \n1      1970-01-14         英格兰              荷兰           0           0   \n2      1970-01-28      Israel              荷兰           0           1   \n3      1970-02-04        Peru  Czechoslovakia           0           2   \n4      1970-02-06         喀麦隆     Ivory Coast           3           2   \n...           ...         ...             ...         ...         ...   \n31617  2018-03-27    Mongolia       Mauritius           0           2   \n31618  2018-03-27  Seychelles       Swaziland           0           0   \n31619  2018-03-27      Kosovo    Burkina Faso           2           0   \n31620  2018-03-27        Iraq           Syria           1           1   \n31621  2018-04-01    Malaysia          Bhutan           7           0   \n\n         winning_team  goal_difference  \n0                Draw                0  \n1                Draw                0  \n2                  荷兰                1  \n3      Czechoslovakia                2  \n4                 喀麦隆                1  \n...               ...              ...  \n31617       Mauritius                2  \n31618            Draw                0  \n31619          Kosovo                2  \n31620            Draw                0  \n31621        Malaysia                7  \n\n[31622 rows x 7 columns]",
      "text/html": "<div>\n<style scoped>\n    .dataframe tbody tr th:only-of-type {\n        vertical-align: middle;\n    }\n\n    .dataframe tbody tr th {\n        vertical-align: top;\n    }\n\n    .dataframe thead th {\n        text-align: right;\n    }\n</style>\n<table border=\"1\" class=\"dataframe\">\n  <thead>\n    <tr style=\"text-align: right;\">\n      <th></th>\n      <th>date</th>\n      <th>home_team</th>\n      <th>away_team</th>\n      <th>home_score</th>\n      <th>away_score</th>\n      <th>winning_team</th>\n      <th>goal_difference</th>\n    </tr>\n  </thead>\n  <tbody>\n    <tr>\n      <th>0</th>\n      <td>1970-01-04</td>\n      <td>Malta</td>\n      <td>Luxembourg</td>\n      <td>1</td>\n      <td>1</td>\n      <td>Draw</td>\n      <td>0</td>\n    </tr>\n    <tr>\n      <th>1</th>\n      <td>1970-01-14</td>\n      <td>英格兰</td>\n      <td>荷兰</td>\n      <td>0</td>\n      <td>0</td>\n      <td>Draw</td>\n      <td>0</td>\n    </tr>\n    <tr>\n      <th>2</th>\n      <td>1970-01-28</td>\n      <td>Israel</td>\n      <td>荷兰</td>\n      <td>0</td>\n      <td>1</td>\n      <td>荷兰</td>\n      <td>1</td>\n    </tr>\n    <tr>\n      <th>3</th>\n      <td>1970-02-04</td>\n      <td>Peru</td>\n      <td>Czechoslovakia</td>\n      <td>0</td>\n      <td>2</td>\n      <td>Czechoslovakia</td>\n      <td>2</td>\n    </tr>\n    <tr>\n      <th>4</th>\n      <td>1970-02-06</td>\n      <td>喀麦隆</td>\n      <td>Ivory Coast</td>\n      <td>3</td>\n      <td>2</td>\n      <td>喀麦隆</td>\n      <td>1</td>\n    </tr>\n    <tr>\n      <th>...</th>\n      <td>...</td>\n      <td>...</td>\n      <td>...</td>\n      <td>...</td>\n      <td>...</td>\n      <td>...</td>\n      <td>...</td>\n    </tr>\n    <tr>\n      <th>31617</th>\n      <td>2018-03-27</td>\n      <td>Mongolia</td>\n      <td>Mauritius</td>\n      <td>0</td>\n      <td>2</td>\n      <td>Mauritius</td>\n      <td>2</td>\n    </tr>\n    <tr>\n      <th>31618</th>\n      <td>2018-03-27</td>\n      <td>Seychelles</td>\n      <td>Swaziland</td>\n      <td>0</td>\n      <td>0</td>\n      <td>Draw</td>\n      <td>0</td>\n    </tr>\n    <tr>\n      <th>31619</th>\n      <td>2018-03-27</td>\n      <td>Kosovo</td>\n      <td>Burkina Faso</td>\n      <td>2</td>\n      <td>0</td>\n      <td>Kosovo</td>\n      <td>2</td>\n    </tr>\n    <tr>\n      <th>31620</th>\n      <td>2018-03-27</td>\n      <td>Iraq</td>\n      <td>Syria</td>\n      <td>1</td>\n      <td>1</td>\n      <td>Draw</td>\n      <td>0</td>\n    </tr>\n    <tr>\n      <th>31621</th>\n      <td>2018-04-01</td>\n      <td>Malaysia</td>\n      <td>Bhutan</td>\n      <td>7</td>\n      <td>0</td>\n      <td>Malaysia</td>\n      <td>7</td>\n    </tr>\n  </tbody>\n</table>\n<p>31622 rows × 7 columns</p>\n</div>"
     },
     "execution_count": 12,
     "metadata": {},
     "output_type": "execute_result"
    }
   ],
   "source": [
    "results"
   ],
   "metadata": {
    "collapsed": false
   }
  },
  {
   "cell_type": "code",
   "execution_count": 13,
   "metadata": {},
   "outputs": [],
   "source": [
    "#narrowing to team patcipating in the world cup\n",
    "worldcup_teams = ['卡塔尔','厄瓜多尔','塞内加尔','荷兰',\n",
    "            '英格兰','伊朗','美国','威尔士',\n",
    "            '阿根廷', '沙特阿拉伯', '墨西哥', '波兰',\n",
    "            '法国', '澳大利亚', '丹麦', '突尼斯',\n",
    "            '西班牙', '哥斯达黎加', '德国', '日本',\n",
    "            '比利时', '加拿大', '摩洛哥', '克罗地亚',\n",
    "            '巴西', '塞尔维亚', '瑞士', '喀麦隆',\n",
    "            '葡萄牙', '加纳', '乌拉圭', '韩国']\n",
    "\n",
    "#主场（看世界杯队伍在不在results数据集中）\n",
    "df_teams_home = results[results['home_team'].isin(worldcup_teams)]\n",
    "#客场\n",
    "df_teams_away = results[results['away_team'].isin(worldcup_teams)]"
   ]
  },
  {
   "cell_type": "markdown",
   "source": [
    "主场是世界杯参赛国家的情况"
   ],
   "metadata": {
    "collapsed": false
   }
  },
  {
   "cell_type": "code",
   "execution_count": 14,
   "outputs": [
    {
     "data": {
      "text/plain": "             date home_team    away_team  home_score  away_score winning_team  \\\n1      1970-01-14       英格兰           荷兰           0           0         Draw   \n4      1970-02-06       喀麦隆  Ivory Coast           3           2          喀麦隆   \n9      1970-02-08       喀麦隆     Ethiopia           3           2          喀麦隆   \n17     1970-02-11        加纳       Guinea           1           1         Draw   \n18     1970-02-11       西班牙           德国           2           0          西班牙   \n...           ...       ...          ...         ...         ...          ...   \n31596  2018-03-27        丹麦        Chile           0           0         Draw   \n31598  2018-03-27       比利时        沙特阿拉伯           4           0          比利时   \n31605  2018-03-27       突尼斯        哥斯达黎加           1           0          突尼斯   \n31607  2018-03-27        波兰           韩国           3           2           波兰   \n31608  2018-03-27       摩洛哥   Uzbekistan           2           0          摩洛哥   \n\n       goal_difference  \n1                    0  \n4                    1  \n9                    1  \n17                   0  \n18                   2  \n...                ...  \n31596                0  \n31598                4  \n31605                1  \n31607                1  \n31608                2  \n\n[8147 rows x 7 columns]",
      "text/html": "<div>\n<style scoped>\n    .dataframe tbody tr th:only-of-type {\n        vertical-align: middle;\n    }\n\n    .dataframe tbody tr th {\n        vertical-align: top;\n    }\n\n    .dataframe thead th {\n        text-align: right;\n    }\n</style>\n<table border=\"1\" class=\"dataframe\">\n  <thead>\n    <tr style=\"text-align: right;\">\n      <th></th>\n      <th>date</th>\n      <th>home_team</th>\n      <th>away_team</th>\n      <th>home_score</th>\n      <th>away_score</th>\n      <th>winning_team</th>\n      <th>goal_difference</th>\n    </tr>\n  </thead>\n  <tbody>\n    <tr>\n      <th>1</th>\n      <td>1970-01-14</td>\n      <td>英格兰</td>\n      <td>荷兰</td>\n      <td>0</td>\n      <td>0</td>\n      <td>Draw</td>\n      <td>0</td>\n    </tr>\n    <tr>\n      <th>4</th>\n      <td>1970-02-06</td>\n      <td>喀麦隆</td>\n      <td>Ivory Coast</td>\n      <td>3</td>\n      <td>2</td>\n      <td>喀麦隆</td>\n      <td>1</td>\n    </tr>\n    <tr>\n      <th>9</th>\n      <td>1970-02-08</td>\n      <td>喀麦隆</td>\n      <td>Ethiopia</td>\n      <td>3</td>\n      <td>2</td>\n      <td>喀麦隆</td>\n      <td>1</td>\n    </tr>\n    <tr>\n      <th>17</th>\n      <td>1970-02-11</td>\n      <td>加纳</td>\n      <td>Guinea</td>\n      <td>1</td>\n      <td>1</td>\n      <td>Draw</td>\n      <td>0</td>\n    </tr>\n    <tr>\n      <th>18</th>\n      <td>1970-02-11</td>\n      <td>西班牙</td>\n      <td>德国</td>\n      <td>2</td>\n      <td>0</td>\n      <td>西班牙</td>\n      <td>2</td>\n    </tr>\n    <tr>\n      <th>...</th>\n      <td>...</td>\n      <td>...</td>\n      <td>...</td>\n      <td>...</td>\n      <td>...</td>\n      <td>...</td>\n      <td>...</td>\n    </tr>\n    <tr>\n      <th>31596</th>\n      <td>2018-03-27</td>\n      <td>丹麦</td>\n      <td>Chile</td>\n      <td>0</td>\n      <td>0</td>\n      <td>Draw</td>\n      <td>0</td>\n    </tr>\n    <tr>\n      <th>31598</th>\n      <td>2018-03-27</td>\n      <td>比利时</td>\n      <td>沙特阿拉伯</td>\n      <td>4</td>\n      <td>0</td>\n      <td>比利时</td>\n      <td>4</td>\n    </tr>\n    <tr>\n      <th>31605</th>\n      <td>2018-03-27</td>\n      <td>突尼斯</td>\n      <td>哥斯达黎加</td>\n      <td>1</td>\n      <td>0</td>\n      <td>突尼斯</td>\n      <td>1</td>\n    </tr>\n    <tr>\n      <th>31607</th>\n      <td>2018-03-27</td>\n      <td>波兰</td>\n      <td>韩国</td>\n      <td>3</td>\n      <td>2</td>\n      <td>波兰</td>\n      <td>1</td>\n    </tr>\n    <tr>\n      <th>31608</th>\n      <td>2018-03-27</td>\n      <td>摩洛哥</td>\n      <td>Uzbekistan</td>\n      <td>2</td>\n      <td>0</td>\n      <td>摩洛哥</td>\n      <td>2</td>\n    </tr>\n  </tbody>\n</table>\n<p>8147 rows × 7 columns</p>\n</div>"
     },
     "execution_count": 14,
     "metadata": {},
     "output_type": "execute_result"
    }
   ],
   "source": [
    "df_teams_home"
   ],
   "metadata": {
    "collapsed": false
   }
  },
  {
   "cell_type": "markdown",
   "source": [
    "\n",
    "客场是世界杯参赛国家的情况"
   ],
   "metadata": {
    "collapsed": false
   }
  },
  {
   "cell_type": "code",
   "execution_count": 15,
   "outputs": [
    {
     "data": {
      "text/plain": "             date           home_team away_team  home_score  away_score  \\\n1      1970-01-14                 英格兰        荷兰           0           0   \n2      1970-01-28              Israel        荷兰           0           1   \n6      1970-02-07            Congo DR        加纳           0           2   \n12     1970-02-09               Egypt        加纳           1           1   \n15     1970-02-10               Sudan       喀麦隆           2           1   \n...           ...                 ...       ...         ...         ...   \n31598  2018-03-27                 比利时     沙特阿拉伯           4           0   \n31599  2018-03-27             Algeria        伊朗           1           2   \n31601  2018-03-27  Bosnia-Herzegovina      塞内加尔           0           0   \n31605  2018-03-27                 突尼斯     哥斯达黎加           1           0   \n31607  2018-03-27                  波兰        韩国           3           2   \n\n      winning_team  goal_difference  \n1             Draw                0  \n2               荷兰                1  \n6               加纳                2  \n12            Draw                0  \n15           Sudan                1  \n...            ...              ...  \n31598          比利时                4  \n31599           伊朗                1  \n31601         Draw                0  \n31605          突尼斯                1  \n31607           波兰                1  \n\n[7393 rows x 7 columns]",
      "text/html": "<div>\n<style scoped>\n    .dataframe tbody tr th:only-of-type {\n        vertical-align: middle;\n    }\n\n    .dataframe tbody tr th {\n        vertical-align: top;\n    }\n\n    .dataframe thead th {\n        text-align: right;\n    }\n</style>\n<table border=\"1\" class=\"dataframe\">\n  <thead>\n    <tr style=\"text-align: right;\">\n      <th></th>\n      <th>date</th>\n      <th>home_team</th>\n      <th>away_team</th>\n      <th>home_score</th>\n      <th>away_score</th>\n      <th>winning_team</th>\n      <th>goal_difference</th>\n    </tr>\n  </thead>\n  <tbody>\n    <tr>\n      <th>1</th>\n      <td>1970-01-14</td>\n      <td>英格兰</td>\n      <td>荷兰</td>\n      <td>0</td>\n      <td>0</td>\n      <td>Draw</td>\n      <td>0</td>\n    </tr>\n    <tr>\n      <th>2</th>\n      <td>1970-01-28</td>\n      <td>Israel</td>\n      <td>荷兰</td>\n      <td>0</td>\n      <td>1</td>\n      <td>荷兰</td>\n      <td>1</td>\n    </tr>\n    <tr>\n      <th>6</th>\n      <td>1970-02-07</td>\n      <td>Congo DR</td>\n      <td>加纳</td>\n      <td>0</td>\n      <td>2</td>\n      <td>加纳</td>\n      <td>2</td>\n    </tr>\n    <tr>\n      <th>12</th>\n      <td>1970-02-09</td>\n      <td>Egypt</td>\n      <td>加纳</td>\n      <td>1</td>\n      <td>1</td>\n      <td>Draw</td>\n      <td>0</td>\n    </tr>\n    <tr>\n      <th>15</th>\n      <td>1970-02-10</td>\n      <td>Sudan</td>\n      <td>喀麦隆</td>\n      <td>2</td>\n      <td>1</td>\n      <td>Sudan</td>\n      <td>1</td>\n    </tr>\n    <tr>\n      <th>...</th>\n      <td>...</td>\n      <td>...</td>\n      <td>...</td>\n      <td>...</td>\n      <td>...</td>\n      <td>...</td>\n      <td>...</td>\n    </tr>\n    <tr>\n      <th>31598</th>\n      <td>2018-03-27</td>\n      <td>比利时</td>\n      <td>沙特阿拉伯</td>\n      <td>4</td>\n      <td>0</td>\n      <td>比利时</td>\n      <td>4</td>\n    </tr>\n    <tr>\n      <th>31599</th>\n      <td>2018-03-27</td>\n      <td>Algeria</td>\n      <td>伊朗</td>\n      <td>1</td>\n      <td>2</td>\n      <td>伊朗</td>\n      <td>1</td>\n    </tr>\n    <tr>\n      <th>31601</th>\n      <td>2018-03-27</td>\n      <td>Bosnia-Herzegovina</td>\n      <td>塞内加尔</td>\n      <td>0</td>\n      <td>0</td>\n      <td>Draw</td>\n      <td>0</td>\n    </tr>\n    <tr>\n      <th>31605</th>\n      <td>2018-03-27</td>\n      <td>突尼斯</td>\n      <td>哥斯达黎加</td>\n      <td>1</td>\n      <td>0</td>\n      <td>突尼斯</td>\n      <td>1</td>\n    </tr>\n    <tr>\n      <th>31607</th>\n      <td>2018-03-27</td>\n      <td>波兰</td>\n      <td>韩国</td>\n      <td>3</td>\n      <td>2</td>\n      <td>波兰</td>\n      <td>1</td>\n    </tr>\n  </tbody>\n</table>\n<p>7393 rows × 7 columns</p>\n</div>"
     },
     "execution_count": 15,
     "metadata": {},
     "output_type": "execute_result"
    }
   ],
   "source": [
    "df_teams_away"
   ],
   "metadata": {
    "collapsed": false
   }
  },
  {
   "cell_type": "code",
   "execution_count": 16,
   "outputs": [
    {
     "data": {
      "text/plain": "             date           home_team    away_team  home_score  away_score  \\\n1      1970-01-14                 英格兰           荷兰           0           0   \n4      1970-02-06                 喀麦隆  Ivory Coast           3           2   \n9      1970-02-08                 喀麦隆     Ethiopia           3           2   \n17     1970-02-11                  加纳       Guinea           1           1   \n18     1970-02-11                 西班牙           德国           2           0   \n...           ...                 ...          ...         ...         ...   \n31598  2018-03-27                 比利时        沙特阿拉伯           4           0   \n31599  2018-03-27             Algeria           伊朗           1           2   \n31601  2018-03-27  Bosnia-Herzegovina         塞内加尔           0           0   \n31605  2018-03-27                 突尼斯        哥斯达黎加           1           0   \n31607  2018-03-27                  波兰           韩国           3           2   \n\n      winning_team  goal_difference  \n1             Draw                0  \n4              喀麦隆                1  \n9              喀麦隆                1  \n17            Draw                0  \n18             西班牙                2  \n...            ...              ...  \n31598          比利时                4  \n31599           伊朗                1  \n31601         Draw                0  \n31605          突尼斯                1  \n31607           波兰                1  \n\n[15540 rows x 7 columns]",
      "text/html": "<div>\n<style scoped>\n    .dataframe tbody tr th:only-of-type {\n        vertical-align: middle;\n    }\n\n    .dataframe tbody tr th {\n        vertical-align: top;\n    }\n\n    .dataframe thead th {\n        text-align: right;\n    }\n</style>\n<table border=\"1\" class=\"dataframe\">\n  <thead>\n    <tr style=\"text-align: right;\">\n      <th></th>\n      <th>date</th>\n      <th>home_team</th>\n      <th>away_team</th>\n      <th>home_score</th>\n      <th>away_score</th>\n      <th>winning_team</th>\n      <th>goal_difference</th>\n    </tr>\n  </thead>\n  <tbody>\n    <tr>\n      <th>1</th>\n      <td>1970-01-14</td>\n      <td>英格兰</td>\n      <td>荷兰</td>\n      <td>0</td>\n      <td>0</td>\n      <td>Draw</td>\n      <td>0</td>\n    </tr>\n    <tr>\n      <th>4</th>\n      <td>1970-02-06</td>\n      <td>喀麦隆</td>\n      <td>Ivory Coast</td>\n      <td>3</td>\n      <td>2</td>\n      <td>喀麦隆</td>\n      <td>1</td>\n    </tr>\n    <tr>\n      <th>9</th>\n      <td>1970-02-08</td>\n      <td>喀麦隆</td>\n      <td>Ethiopia</td>\n      <td>3</td>\n      <td>2</td>\n      <td>喀麦隆</td>\n      <td>1</td>\n    </tr>\n    <tr>\n      <th>17</th>\n      <td>1970-02-11</td>\n      <td>加纳</td>\n      <td>Guinea</td>\n      <td>1</td>\n      <td>1</td>\n      <td>Draw</td>\n      <td>0</td>\n    </tr>\n    <tr>\n      <th>18</th>\n      <td>1970-02-11</td>\n      <td>西班牙</td>\n      <td>德国</td>\n      <td>2</td>\n      <td>0</td>\n      <td>西班牙</td>\n      <td>2</td>\n    </tr>\n    <tr>\n      <th>...</th>\n      <td>...</td>\n      <td>...</td>\n      <td>...</td>\n      <td>...</td>\n      <td>...</td>\n      <td>...</td>\n      <td>...</td>\n    </tr>\n    <tr>\n      <th>31598</th>\n      <td>2018-03-27</td>\n      <td>比利时</td>\n      <td>沙特阿拉伯</td>\n      <td>4</td>\n      <td>0</td>\n      <td>比利时</td>\n      <td>4</td>\n    </tr>\n    <tr>\n      <th>31599</th>\n      <td>2018-03-27</td>\n      <td>Algeria</td>\n      <td>伊朗</td>\n      <td>1</td>\n      <td>2</td>\n      <td>伊朗</td>\n      <td>1</td>\n    </tr>\n    <tr>\n      <th>31601</th>\n      <td>2018-03-27</td>\n      <td>Bosnia-Herzegovina</td>\n      <td>塞内加尔</td>\n      <td>0</td>\n      <td>0</td>\n      <td>Draw</td>\n      <td>0</td>\n    </tr>\n    <tr>\n      <th>31605</th>\n      <td>2018-03-27</td>\n      <td>突尼斯</td>\n      <td>哥斯达黎加</td>\n      <td>1</td>\n      <td>0</td>\n      <td>突尼斯</td>\n      <td>1</td>\n    </tr>\n    <tr>\n      <th>31607</th>\n      <td>2018-03-27</td>\n      <td>波兰</td>\n      <td>韩国</td>\n      <td>3</td>\n      <td>2</td>\n      <td>波兰</td>\n      <td>1</td>\n    </tr>\n  </tbody>\n</table>\n<p>15540 rows × 7 columns</p>\n</div>"
     },
     "execution_count": 16,
     "metadata": {},
     "output_type": "execute_result"
    }
   ],
   "source": [
    "df_teams = pd.concat((df_teams_home, df_teams_away))        # 数据合并\n",
    "df_teams"
   ],
   "metadata": {
    "collapsed": false
   }
  },
  {
   "cell_type": "code",
   "execution_count": 17,
   "outputs": [
    {
     "data": {
      "text/plain": "             date           home_team    away_team  home_score  away_score  \\\n1      1970-01-14                 英格兰           荷兰           0           0   \n4      1970-02-06                 喀麦隆  Ivory Coast           3           2   \n9      1970-02-08                 喀麦隆     Ethiopia           3           2   \n17     1970-02-11                  加纳       Guinea           1           1   \n18     1970-02-11                 西班牙           德国           2           0   \n...           ...                 ...          ...         ...         ...   \n31598  2018-03-27                 比利时        沙特阿拉伯           4           0   \n31599  2018-03-27             Algeria           伊朗           1           2   \n31601  2018-03-27  Bosnia-Herzegovina         塞内加尔           0           0   \n31605  2018-03-27                 突尼斯        哥斯达黎加           1           0   \n31607  2018-03-27                  波兰           韩国           3           2   \n\n      winning_team  goal_difference  \n1             Draw                0  \n4              喀麦隆                1  \n9              喀麦隆                1  \n17            Draw                0  \n18             西班牙                2  \n...            ...              ...  \n31598          比利时                4  \n31599           伊朗                1  \n31601         Draw                0  \n31605          突尼斯                1  \n31607           波兰                1  \n\n[15540 rows x 7 columns]",
      "text/html": "<div>\n<style scoped>\n    .dataframe tbody tr th:only-of-type {\n        vertical-align: middle;\n    }\n\n    .dataframe tbody tr th {\n        vertical-align: top;\n    }\n\n    .dataframe thead th {\n        text-align: right;\n    }\n</style>\n<table border=\"1\" class=\"dataframe\">\n  <thead>\n    <tr style=\"text-align: right;\">\n      <th></th>\n      <th>date</th>\n      <th>home_team</th>\n      <th>away_team</th>\n      <th>home_score</th>\n      <th>away_score</th>\n      <th>winning_team</th>\n      <th>goal_difference</th>\n    </tr>\n  </thead>\n  <tbody>\n    <tr>\n      <th>1</th>\n      <td>1970-01-14</td>\n      <td>英格兰</td>\n      <td>荷兰</td>\n      <td>0</td>\n      <td>0</td>\n      <td>Draw</td>\n      <td>0</td>\n    </tr>\n    <tr>\n      <th>4</th>\n      <td>1970-02-06</td>\n      <td>喀麦隆</td>\n      <td>Ivory Coast</td>\n      <td>3</td>\n      <td>2</td>\n      <td>喀麦隆</td>\n      <td>1</td>\n    </tr>\n    <tr>\n      <th>9</th>\n      <td>1970-02-08</td>\n      <td>喀麦隆</td>\n      <td>Ethiopia</td>\n      <td>3</td>\n      <td>2</td>\n      <td>喀麦隆</td>\n      <td>1</td>\n    </tr>\n    <tr>\n      <th>17</th>\n      <td>1970-02-11</td>\n      <td>加纳</td>\n      <td>Guinea</td>\n      <td>1</td>\n      <td>1</td>\n      <td>Draw</td>\n      <td>0</td>\n    </tr>\n    <tr>\n      <th>18</th>\n      <td>1970-02-11</td>\n      <td>西班牙</td>\n      <td>德国</td>\n      <td>2</td>\n      <td>0</td>\n      <td>西班牙</td>\n      <td>2</td>\n    </tr>\n    <tr>\n      <th>...</th>\n      <td>...</td>\n      <td>...</td>\n      <td>...</td>\n      <td>...</td>\n      <td>...</td>\n      <td>...</td>\n      <td>...</td>\n    </tr>\n    <tr>\n      <th>31598</th>\n      <td>2018-03-27</td>\n      <td>比利时</td>\n      <td>沙特阿拉伯</td>\n      <td>4</td>\n      <td>0</td>\n      <td>比利时</td>\n      <td>4</td>\n    </tr>\n    <tr>\n      <th>31599</th>\n      <td>2018-03-27</td>\n      <td>Algeria</td>\n      <td>伊朗</td>\n      <td>1</td>\n      <td>2</td>\n      <td>伊朗</td>\n      <td>1</td>\n    </tr>\n    <tr>\n      <th>31601</th>\n      <td>2018-03-27</td>\n      <td>Bosnia-Herzegovina</td>\n      <td>塞内加尔</td>\n      <td>0</td>\n      <td>0</td>\n      <td>Draw</td>\n      <td>0</td>\n    </tr>\n    <tr>\n      <th>31605</th>\n      <td>2018-03-27</td>\n      <td>突尼斯</td>\n      <td>哥斯达黎加</td>\n      <td>1</td>\n      <td>0</td>\n      <td>突尼斯</td>\n      <td>1</td>\n    </tr>\n    <tr>\n      <th>31607</th>\n      <td>2018-03-27</td>\n      <td>波兰</td>\n      <td>韩国</td>\n      <td>3</td>\n      <td>2</td>\n      <td>波兰</td>\n      <td>1</td>\n    </tr>\n  </tbody>\n</table>\n<p>15540 rows × 7 columns</p>\n</div>"
     },
     "execution_count": 17,
     "metadata": {},
     "output_type": "execute_result"
    }
   ],
   "source": [
    "df_teams.drop_duplicates()          # 去掉重复的\n",
    "df_teams"
   ],
   "metadata": {
    "collapsed": false
   }
  },
  {
   "cell_type": "code",
   "execution_count": 18,
   "outputs": [
    {
     "data": {
      "text/plain": "date               15540\nhome_team          15540\naway_team          15540\nhome_score         15540\naway_score         15540\nwinning_team       15540\ngoal_difference    15540\ndtype: int64"
     },
     "execution_count": 18,
     "metadata": {},
     "output_type": "execute_result"
    }
   ],
   "source": [
    "df_teams.count()        # 统计数量"
   ],
   "metadata": {
    "collapsed": false
   }
  },
  {
   "cell_type": "code",
   "execution_count": 19,
   "metadata": {},
   "outputs": [
    {
     "data": {
      "text/plain": "          date home_team    away_team  home_score  away_score winning_team  \\\n1   1970-01-14       英格兰           荷兰           0           0         Draw   \n4   1970-02-06       喀麦隆  Ivory Coast           3           2          喀麦隆   \n9   1970-02-08       喀麦隆     Ethiopia           3           2          喀麦隆   \n17  1970-02-11        加纳       Guinea           1           1         Draw   \n18  1970-02-11       西班牙           德国           2           0          西班牙   \n\n    goal_difference  \n1                 0  \n4                 1  \n9                 1  \n17                0  \n18                2  ",
      "text/html": "<div>\n<style scoped>\n    .dataframe tbody tr th:only-of-type {\n        vertical-align: middle;\n    }\n\n    .dataframe tbody tr th {\n        vertical-align: top;\n    }\n\n    .dataframe thead th {\n        text-align: right;\n    }\n</style>\n<table border=\"1\" class=\"dataframe\">\n  <thead>\n    <tr style=\"text-align: right;\">\n      <th></th>\n      <th>date</th>\n      <th>home_team</th>\n      <th>away_team</th>\n      <th>home_score</th>\n      <th>away_score</th>\n      <th>winning_team</th>\n      <th>goal_difference</th>\n    </tr>\n  </thead>\n  <tbody>\n    <tr>\n      <th>1</th>\n      <td>1970-01-14</td>\n      <td>英格兰</td>\n      <td>荷兰</td>\n      <td>0</td>\n      <td>0</td>\n      <td>Draw</td>\n      <td>0</td>\n    </tr>\n    <tr>\n      <th>4</th>\n      <td>1970-02-06</td>\n      <td>喀麦隆</td>\n      <td>Ivory Coast</td>\n      <td>3</td>\n      <td>2</td>\n      <td>喀麦隆</td>\n      <td>1</td>\n    </tr>\n    <tr>\n      <th>9</th>\n      <td>1970-02-08</td>\n      <td>喀麦隆</td>\n      <td>Ethiopia</td>\n      <td>3</td>\n      <td>2</td>\n      <td>喀麦隆</td>\n      <td>1</td>\n    </tr>\n    <tr>\n      <th>17</th>\n      <td>1970-02-11</td>\n      <td>加纳</td>\n      <td>Guinea</td>\n      <td>1</td>\n      <td>1</td>\n      <td>Draw</td>\n      <td>0</td>\n    </tr>\n    <tr>\n      <th>18</th>\n      <td>1970-02-11</td>\n      <td>西班牙</td>\n      <td>德国</td>\n      <td>2</td>\n      <td>0</td>\n      <td>西班牙</td>\n      <td>2</td>\n    </tr>\n  </tbody>\n</table>\n</div>"
     },
     "execution_count": 19,
     "metadata": {},
     "output_type": "execute_result"
    }
   ],
   "source": [
    "df_teams.head()"
   ]
  },
  {
   "cell_type": "markdown",
   "source": [
    "为年份创建一列，去掉 1970 年之前的比赛（年份久远没没有参考性），并去掉不会影响到比赛结果的数据列，比如 date（日期）、home_score（主场得分）、away_score（客场得分）、tournament（锦标赛）、city（城市）、country（国家）、goal_difference（目标差异）和 match_year（比赛年份）："
   ],
   "metadata": {
    "collapsed": false
   }
  },
  {
   "cell_type": "code",
   "execution_count": 20,
   "metadata": {},
   "outputs": [
    {
     "data": {
      "text/plain": "          date home_team    away_team  home_score  away_score winning_team  \\\n1   1970-01-14       英格兰           荷兰           0           0         Draw   \n4   1970-02-06       喀麦隆  Ivory Coast           3           2          喀麦隆   \n9   1970-02-08       喀麦隆     Ethiopia           3           2          喀麦隆   \n17  1970-02-11        加纳       Guinea           1           1         Draw   \n18  1970-02-11       西班牙           德国           2           0          西班牙   \n\n    goal_difference  match_year  \n1                 0        1970  \n4                 1        1970  \n9                 1        1970  \n17                0        1970  \n18                2        1970  ",
      "text/html": "<div>\n<style scoped>\n    .dataframe tbody tr th:only-of-type {\n        vertical-align: middle;\n    }\n\n    .dataframe tbody tr th {\n        vertical-align: top;\n    }\n\n    .dataframe thead th {\n        text-align: right;\n    }\n</style>\n<table border=\"1\" class=\"dataframe\">\n  <thead>\n    <tr style=\"text-align: right;\">\n      <th></th>\n      <th>date</th>\n      <th>home_team</th>\n      <th>away_team</th>\n      <th>home_score</th>\n      <th>away_score</th>\n      <th>winning_team</th>\n      <th>goal_difference</th>\n      <th>match_year</th>\n    </tr>\n  </thead>\n  <tbody>\n    <tr>\n      <th>1</th>\n      <td>1970-01-14</td>\n      <td>英格兰</td>\n      <td>荷兰</td>\n      <td>0</td>\n      <td>0</td>\n      <td>Draw</td>\n      <td>0</td>\n      <td>1970</td>\n    </tr>\n    <tr>\n      <th>4</th>\n      <td>1970-02-06</td>\n      <td>喀麦隆</td>\n      <td>Ivory Coast</td>\n      <td>3</td>\n      <td>2</td>\n      <td>喀麦隆</td>\n      <td>1</td>\n      <td>1970</td>\n    </tr>\n    <tr>\n      <th>9</th>\n      <td>1970-02-08</td>\n      <td>喀麦隆</td>\n      <td>Ethiopia</td>\n      <td>3</td>\n      <td>2</td>\n      <td>喀麦隆</td>\n      <td>1</td>\n      <td>1970</td>\n    </tr>\n    <tr>\n      <th>17</th>\n      <td>1970-02-11</td>\n      <td>加纳</td>\n      <td>Guinea</td>\n      <td>1</td>\n      <td>1</td>\n      <td>Draw</td>\n      <td>0</td>\n      <td>1970</td>\n    </tr>\n    <tr>\n      <th>18</th>\n      <td>1970-02-11</td>\n      <td>西班牙</td>\n      <td>德国</td>\n      <td>2</td>\n      <td>0</td>\n      <td>西班牙</td>\n      <td>2</td>\n      <td>1970</td>\n    </tr>\n  </tbody>\n</table>\n</div>"
     },
     "execution_count": 20,
     "metadata": {},
     "output_type": "execute_result"
    }
   ],
   "source": [
    "year = []\n",
    "# 新加一列year，为date的前四个（即年份）\n",
    "for row in df_teams['date']:\n",
    "    year.append(int(row[:4]))\n",
    "df_teams['match_year'] = year\n",
    "# 只要1970年以后的数据\n",
    "df_teams_1970 = df_teams[df_teams.match_year >= 1930]\n",
    "df_teams_1970.head()"
   ]
  },
  {
   "cell_type": "code",
   "execution_count": 21,
   "metadata": {},
   "outputs": [
    {
     "data": {
      "text/plain": "   home_team    away_team winning_team\n1        英格兰           荷兰         Draw\n4        喀麦隆  Ivory Coast          喀麦隆\n9        喀麦隆     Ethiopia          喀麦隆\n17        加纳       Guinea         Draw\n18       西班牙           德国          西班牙",
      "text/html": "<div>\n<style scoped>\n    .dataframe tbody tr th:only-of-type {\n        vertical-align: middle;\n    }\n\n    .dataframe tbody tr th {\n        vertical-align: top;\n    }\n\n    .dataframe thead th {\n        text-align: right;\n    }\n</style>\n<table border=\"1\" class=\"dataframe\">\n  <thead>\n    <tr style=\"text-align: right;\">\n      <th></th>\n      <th>home_team</th>\n      <th>away_team</th>\n      <th>winning_team</th>\n    </tr>\n  </thead>\n  <tbody>\n    <tr>\n      <th>1</th>\n      <td>英格兰</td>\n      <td>荷兰</td>\n      <td>Draw</td>\n    </tr>\n    <tr>\n      <th>4</th>\n      <td>喀麦隆</td>\n      <td>Ivory Coast</td>\n      <td>喀麦隆</td>\n    </tr>\n    <tr>\n      <th>9</th>\n      <td>喀麦隆</td>\n      <td>Ethiopia</td>\n      <td>喀麦隆</td>\n    </tr>\n    <tr>\n      <th>17</th>\n      <td>加纳</td>\n      <td>Guinea</td>\n      <td>Draw</td>\n    </tr>\n    <tr>\n      <th>18</th>\n      <td>西班牙</td>\n      <td>德国</td>\n      <td>西班牙</td>\n    </tr>\n  </tbody>\n</table>\n</div>"
     },
     "execution_count": 21,
     "metadata": {},
     "output_type": "execute_result"
    }
   ],
   "source": [
    "# 删除data，home_score...列\n",
    "df_teams_1970 = df_teams.drop(['date', 'home_score', 'away_score', 'goal_difference', 'match_year'], axis=1)       # 0-行 1-列\n",
    "df_teams_1970.head()"
   ]
  },
  {
   "cell_type": "markdown",
   "source": [
    "为了简化模型的处理，我们修改一下预测标签。\n",
    "\n",
    "如果主场队伍获胜，那么 winning_team（获胜队伍）一列显示“2”，如果平局则显示“1”，如果是客场队伍获胜则显示“0”："
   ],
   "metadata": {
    "collapsed": false
   }
  },
  {
   "cell_type": "code",
   "execution_count": 22,
   "metadata": {},
   "outputs": [
    {
     "data": {
      "text/plain": "                home_team    away_team winning_team\n0                     英格兰           荷兰            1\n1                     喀麦隆  Ivory Coast            2\n2                     喀麦隆     Ethiopia            2\n3                      加纳       Guinea            1\n4                     西班牙           德国            2\n...                   ...          ...          ...\n15535                 比利时        沙特阿拉伯            2\n15536             Algeria           伊朗            0\n15537  Bosnia-Herzegovina         塞内加尔            1\n15538                 突尼斯        哥斯达黎加            2\n15539                  波兰           韩国            2\n\n[15540 rows x 3 columns]",
      "text/html": "<div>\n<style scoped>\n    .dataframe tbody tr th:only-of-type {\n        vertical-align: middle;\n    }\n\n    .dataframe tbody tr th {\n        vertical-align: top;\n    }\n\n    .dataframe thead th {\n        text-align: right;\n    }\n</style>\n<table border=\"1\" class=\"dataframe\">\n  <thead>\n    <tr style=\"text-align: right;\">\n      <th></th>\n      <th>home_team</th>\n      <th>away_team</th>\n      <th>winning_team</th>\n    </tr>\n  </thead>\n  <tbody>\n    <tr>\n      <th>0</th>\n      <td>英格兰</td>\n      <td>荷兰</td>\n      <td>1</td>\n    </tr>\n    <tr>\n      <th>1</th>\n      <td>喀麦隆</td>\n      <td>Ivory Coast</td>\n      <td>2</td>\n    </tr>\n    <tr>\n      <th>2</th>\n      <td>喀麦隆</td>\n      <td>Ethiopia</td>\n      <td>2</td>\n    </tr>\n    <tr>\n      <th>3</th>\n      <td>加纳</td>\n      <td>Guinea</td>\n      <td>1</td>\n    </tr>\n    <tr>\n      <th>4</th>\n      <td>西班牙</td>\n      <td>德国</td>\n      <td>2</td>\n    </tr>\n    <tr>\n      <th>...</th>\n      <td>...</td>\n      <td>...</td>\n      <td>...</td>\n    </tr>\n    <tr>\n      <th>15535</th>\n      <td>比利时</td>\n      <td>沙特阿拉伯</td>\n      <td>2</td>\n    </tr>\n    <tr>\n      <th>15536</th>\n      <td>Algeria</td>\n      <td>伊朗</td>\n      <td>0</td>\n    </tr>\n    <tr>\n      <th>15537</th>\n      <td>Bosnia-Herzegovina</td>\n      <td>塞内加尔</td>\n      <td>1</td>\n    </tr>\n    <tr>\n      <th>15538</th>\n      <td>突尼斯</td>\n      <td>哥斯达黎加</td>\n      <td>2</td>\n    </tr>\n    <tr>\n      <th>15539</th>\n      <td>波兰</td>\n      <td>韩国</td>\n      <td>2</td>\n    </tr>\n  </tbody>\n</table>\n<p>15540 rows × 3 columns</p>\n</div>"
     },
     "execution_count": 22,
     "metadata": {},
     "output_type": "execute_result"
    }
   ],
   "source": [
    "# 重置索引\n",
    "df_teams_1970 = df_teams_1970.reset_index(drop=True)\n",
    "\n",
    "# 如果主场和获胜的队伍一样，则将获胜队伍附为2\n",
    "df_teams_1970.loc[df_teams_1970.winning_team == df_teams_1970.home_team,'winning_team']=2\n",
    "# 平局则为1\n",
    "df_teams_1970.loc[df_teams_1970.winning_team == 'Draw', 'winning_team']=1\n",
    "# 客场胜利为0\n",
    "df_teams_1970.loc[df_teams_1970.winning_team == df_teams_1970.away_team, 'winning_team']=0\n",
    "\n",
    "df_teams_1970"
   ]
  },
  {
   "cell_type": "markdown",
   "source": [
    "通过设置哑变量（dummy variables），我们将 home_team（主场队伍）和away _team（客场队伍）从分类变量转换成连续的输入。\n",
    "\n",
    "这时可以使用 pandas 的 get_dummies() 函数，它会将分类列替换成一位有效值（one-hot，由数字‘1’和‘0’组成），以便将它们加载到 Scikit-learn 模型中。\n",
    "\n",
    "接下来，我们将数据按照 70% 的训练数据集和 30% 的测试数据集分成 X 集和 Y 集："
   ],
   "metadata": {
    "collapsed": false
   }
  },
  {
   "cell_type": "code",
   "execution_count": 23,
   "metadata": {},
   "outputs": [],
   "source": [
    "'''\n",
    "将主队和客队从分类变量转换为连续输入\n",
    "获取虚拟变量\n",
    "'''\n",
    "final = pd.get_dummies(df_teams_1970, prefix=['home_team', 'away_team'], columns=['home_team', 'away_team'])\n",
    "\n",
    "# Separate X and y sets\n",
    "X = final.drop(['winning_team'], axis=1)\n",
    "y = final[\"winning_team\"]"
   ]
  },
  {
   "cell_type": "code",
   "execution_count": 24,
   "outputs": [
    {
     "data": {
      "text/plain": "      winning_team  home_team_Afghanistan  home_team_Albania  \\\n0                1                      0                  0   \n1                2                      0                  0   \n2                2                      0                  0   \n3                1                      0                  0   \n4                2                      0                  0   \n...            ...                    ...                ...   \n15535            2                      0                  0   \n15536            0                      0                  0   \n15537            1                      0                  0   \n15538            2                      0                  0   \n15539            2                      0                  0   \n\n       home_team_Algeria  home_team_Andorra  home_team_Angola  \\\n0                      0                  0                 0   \n1                      0                  0                 0   \n2                      0                  0                 0   \n3                      0                  0                 0   \n4                      0                  0                 0   \n...                  ...                ...               ...   \n15535                  0                  0                 0   \n15536                  1                  0                 0   \n15537                  0                  0                 0   \n15538                  0                  0                 0   \n15539                  0                  0                 0   \n\n       home_team_Antigua and Barbuda  home_team_Armenia  home_team_Austria  \\\n0                                  0                  0                  0   \n1                                  0                  0                  0   \n2                                  0                  0                  0   \n3                                  0                  0                  0   \n4                                  0                  0                  0   \n...                              ...                ...                ...   \n15535                              0                  0                  0   \n15536                              0                  0                  0   \n15537                              0                  0                  0   \n15538                              0                  0                  0   \n15539                              0                  0                  0   \n\n       home_team_Azerbaijan  ...  away_team_瑞典  away_team_瑞士  away_team_突尼斯  \\\n0                         0  ...             0             0              0   \n1                         0  ...             0             0              0   \n2                         0  ...             0             0              0   \n3                         0  ...             0             0              0   \n4                         0  ...             0             0              0   \n...                     ...  ...           ...           ...            ...   \n15535                     0  ...             0             0              0   \n15536                     0  ...             0             0              0   \n15537                     0  ...             0             0              0   \n15538                     0  ...             0             0              0   \n15539                     0  ...             0             0              0   \n\n       away_team_美国  away_team_英格兰  away_team_荷兰  away_team_葡萄牙  \\\n0                 0              0             1              0   \n1                 0              0             0              0   \n2                 0              0             0              0   \n3                 0              0             0              0   \n4                 0              0             0              0   \n...             ...            ...           ...            ...   \n15535             0              0             0              0   \n15536             0              0             0              0   \n15537             0              0             0              0   \n15538             0              0             0              0   \n15539             0              0             0              0   \n\n       away_team_西班牙  away_team_阿根廷  away_team_韩国  \n0                  0              0             0  \n1                  0              0             0  \n2                  0              0             0  \n3                  0              0             0  \n4                  0              0             0  \n...              ...            ...           ...  \n15535              0              0             0  \n15536              0              0             0  \n15537              0              0             0  \n15538              0              0             0  \n15539              0              0             1  \n\n[15540 rows x 416 columns]",
      "text/html": "<div>\n<style scoped>\n    .dataframe tbody tr th:only-of-type {\n        vertical-align: middle;\n    }\n\n    .dataframe tbody tr th {\n        vertical-align: top;\n    }\n\n    .dataframe thead th {\n        text-align: right;\n    }\n</style>\n<table border=\"1\" class=\"dataframe\">\n  <thead>\n    <tr style=\"text-align: right;\">\n      <th></th>\n      <th>winning_team</th>\n      <th>home_team_Afghanistan</th>\n      <th>home_team_Albania</th>\n      <th>home_team_Algeria</th>\n      <th>home_team_Andorra</th>\n      <th>home_team_Angola</th>\n      <th>home_team_Antigua and Barbuda</th>\n      <th>home_team_Armenia</th>\n      <th>home_team_Austria</th>\n      <th>home_team_Azerbaijan</th>\n      <th>...</th>\n      <th>away_team_瑞典</th>\n      <th>away_team_瑞士</th>\n      <th>away_team_突尼斯</th>\n      <th>away_team_美国</th>\n      <th>away_team_英格兰</th>\n      <th>away_team_荷兰</th>\n      <th>away_team_葡萄牙</th>\n      <th>away_team_西班牙</th>\n      <th>away_team_阿根廷</th>\n      <th>away_team_韩国</th>\n    </tr>\n  </thead>\n  <tbody>\n    <tr>\n      <th>0</th>\n      <td>1</td>\n      <td>0</td>\n      <td>0</td>\n      <td>0</td>\n      <td>0</td>\n      <td>0</td>\n      <td>0</td>\n      <td>0</td>\n      <td>0</td>\n      <td>0</td>\n      <td>...</td>\n      <td>0</td>\n      <td>0</td>\n      <td>0</td>\n      <td>0</td>\n      <td>0</td>\n      <td>1</td>\n      <td>0</td>\n      <td>0</td>\n      <td>0</td>\n      <td>0</td>\n    </tr>\n    <tr>\n      <th>1</th>\n      <td>2</td>\n      <td>0</td>\n      <td>0</td>\n      <td>0</td>\n      <td>0</td>\n      <td>0</td>\n      <td>0</td>\n      <td>0</td>\n      <td>0</td>\n      <td>0</td>\n      <td>...</td>\n      <td>0</td>\n      <td>0</td>\n      <td>0</td>\n      <td>0</td>\n      <td>0</td>\n      <td>0</td>\n      <td>0</td>\n      <td>0</td>\n      <td>0</td>\n      <td>0</td>\n    </tr>\n    <tr>\n      <th>2</th>\n      <td>2</td>\n      <td>0</td>\n      <td>0</td>\n      <td>0</td>\n      <td>0</td>\n      <td>0</td>\n      <td>0</td>\n      <td>0</td>\n      <td>0</td>\n      <td>0</td>\n      <td>...</td>\n      <td>0</td>\n      <td>0</td>\n      <td>0</td>\n      <td>0</td>\n      <td>0</td>\n      <td>0</td>\n      <td>0</td>\n      <td>0</td>\n      <td>0</td>\n      <td>0</td>\n    </tr>\n    <tr>\n      <th>3</th>\n      <td>1</td>\n      <td>0</td>\n      <td>0</td>\n      <td>0</td>\n      <td>0</td>\n      <td>0</td>\n      <td>0</td>\n      <td>0</td>\n      <td>0</td>\n      <td>0</td>\n      <td>...</td>\n      <td>0</td>\n      <td>0</td>\n      <td>0</td>\n      <td>0</td>\n      <td>0</td>\n      <td>0</td>\n      <td>0</td>\n      <td>0</td>\n      <td>0</td>\n      <td>0</td>\n    </tr>\n    <tr>\n      <th>4</th>\n      <td>2</td>\n      <td>0</td>\n      <td>0</td>\n      <td>0</td>\n      <td>0</td>\n      <td>0</td>\n      <td>0</td>\n      <td>0</td>\n      <td>0</td>\n      <td>0</td>\n      <td>...</td>\n      <td>0</td>\n      <td>0</td>\n      <td>0</td>\n      <td>0</td>\n      <td>0</td>\n      <td>0</td>\n      <td>0</td>\n      <td>0</td>\n      <td>0</td>\n      <td>0</td>\n    </tr>\n    <tr>\n      <th>...</th>\n      <td>...</td>\n      <td>...</td>\n      <td>...</td>\n      <td>...</td>\n      <td>...</td>\n      <td>...</td>\n      <td>...</td>\n      <td>...</td>\n      <td>...</td>\n      <td>...</td>\n      <td>...</td>\n      <td>...</td>\n      <td>...</td>\n      <td>...</td>\n      <td>...</td>\n      <td>...</td>\n      <td>...</td>\n      <td>...</td>\n      <td>...</td>\n      <td>...</td>\n      <td>...</td>\n    </tr>\n    <tr>\n      <th>15535</th>\n      <td>2</td>\n      <td>0</td>\n      <td>0</td>\n      <td>0</td>\n      <td>0</td>\n      <td>0</td>\n      <td>0</td>\n      <td>0</td>\n      <td>0</td>\n      <td>0</td>\n      <td>...</td>\n      <td>0</td>\n      <td>0</td>\n      <td>0</td>\n      <td>0</td>\n      <td>0</td>\n      <td>0</td>\n      <td>0</td>\n      <td>0</td>\n      <td>0</td>\n      <td>0</td>\n    </tr>\n    <tr>\n      <th>15536</th>\n      <td>0</td>\n      <td>0</td>\n      <td>0</td>\n      <td>1</td>\n      <td>0</td>\n      <td>0</td>\n      <td>0</td>\n      <td>0</td>\n      <td>0</td>\n      <td>0</td>\n      <td>...</td>\n      <td>0</td>\n      <td>0</td>\n      <td>0</td>\n      <td>0</td>\n      <td>0</td>\n      <td>0</td>\n      <td>0</td>\n      <td>0</td>\n      <td>0</td>\n      <td>0</td>\n    </tr>\n    <tr>\n      <th>15537</th>\n      <td>1</td>\n      <td>0</td>\n      <td>0</td>\n      <td>0</td>\n      <td>0</td>\n      <td>0</td>\n      <td>0</td>\n      <td>0</td>\n      <td>0</td>\n      <td>0</td>\n      <td>...</td>\n      <td>0</td>\n      <td>0</td>\n      <td>0</td>\n      <td>0</td>\n      <td>0</td>\n      <td>0</td>\n      <td>0</td>\n      <td>0</td>\n      <td>0</td>\n      <td>0</td>\n    </tr>\n    <tr>\n      <th>15538</th>\n      <td>2</td>\n      <td>0</td>\n      <td>0</td>\n      <td>0</td>\n      <td>0</td>\n      <td>0</td>\n      <td>0</td>\n      <td>0</td>\n      <td>0</td>\n      <td>0</td>\n      <td>...</td>\n      <td>0</td>\n      <td>0</td>\n      <td>0</td>\n      <td>0</td>\n      <td>0</td>\n      <td>0</td>\n      <td>0</td>\n      <td>0</td>\n      <td>0</td>\n      <td>0</td>\n    </tr>\n    <tr>\n      <th>15539</th>\n      <td>2</td>\n      <td>0</td>\n      <td>0</td>\n      <td>0</td>\n      <td>0</td>\n      <td>0</td>\n      <td>0</td>\n      <td>0</td>\n      <td>0</td>\n      <td>0</td>\n      <td>...</td>\n      <td>0</td>\n      <td>0</td>\n      <td>0</td>\n      <td>0</td>\n      <td>0</td>\n      <td>0</td>\n      <td>0</td>\n      <td>0</td>\n      <td>0</td>\n      <td>1</td>\n    </tr>\n  </tbody>\n</table>\n<p>15540 rows × 416 columns</p>\n</div>"
     },
     "execution_count": 24,
     "metadata": {},
     "output_type": "execute_result"
    }
   ],
   "source": [
    "final"
   ],
   "metadata": {
    "collapsed": false
   }
  },
  {
   "cell_type": "code",
   "execution_count": 25,
   "outputs": [
    {
     "data": {
      "text/plain": "       home_team_Afghanistan  home_team_Albania  home_team_Algeria  \\\n0                          0                  0                  0   \n1                          0                  0                  0   \n2                          0                  0                  0   \n3                          0                  0                  0   \n4                          0                  0                  0   \n...                      ...                ...                ...   \n15535                      0                  0                  0   \n15536                      0                  0                  1   \n15537                      0                  0                  0   \n15538                      0                  0                  0   \n15539                      0                  0                  0   \n\n       home_team_Andorra  home_team_Angola  home_team_Antigua and Barbuda  \\\n0                      0                 0                              0   \n1                      0                 0                              0   \n2                      0                 0                              0   \n3                      0                 0                              0   \n4                      0                 0                              0   \n...                  ...               ...                            ...   \n15535                  0                 0                              0   \n15536                  0                 0                              0   \n15537                  0                 0                              0   \n15538                  0                 0                              0   \n15539                  0                 0                              0   \n\n       home_team_Armenia  home_team_Austria  home_team_Azerbaijan  \\\n0                      0                  0                     0   \n1                      0                  0                     0   \n2                      0                  0                     0   \n3                      0                  0                     0   \n4                      0                  0                     0   \n...                  ...                ...                   ...   \n15535                  0                  0                     0   \n15536                  0                  0                     0   \n15537                  0                  0                     0   \n15538                  0                  0                     0   \n15539                  0                  0                     0   \n\n       home_team_Bahrain  ...  away_team_瑞典  away_team_瑞士  away_team_突尼斯  \\\n0                      0  ...             0             0              0   \n1                      0  ...             0             0              0   \n2                      0  ...             0             0              0   \n3                      0  ...             0             0              0   \n4                      0  ...             0             0              0   \n...                  ...  ...           ...           ...            ...   \n15535                  0  ...             0             0              0   \n15536                  0  ...             0             0              0   \n15537                  0  ...             0             0              0   \n15538                  0  ...             0             0              0   \n15539                  0  ...             0             0              0   \n\n       away_team_美国  away_team_英格兰  away_team_荷兰  away_team_葡萄牙  \\\n0                 0              0             1              0   \n1                 0              0             0              0   \n2                 0              0             0              0   \n3                 0              0             0              0   \n4                 0              0             0              0   \n...             ...            ...           ...            ...   \n15535             0              0             0              0   \n15536             0              0             0              0   \n15537             0              0             0              0   \n15538             0              0             0              0   \n15539             0              0             0              0   \n\n       away_team_西班牙  away_team_阿根廷  away_team_韩国  \n0                  0              0             0  \n1                  0              0             0  \n2                  0              0             0  \n3                  0              0             0  \n4                  0              0             0  \n...              ...            ...           ...  \n15535              0              0             0  \n15536              0              0             0  \n15537              0              0             0  \n15538              0              0             0  \n15539              0              0             1  \n\n[15540 rows x 415 columns]",
      "text/html": "<div>\n<style scoped>\n    .dataframe tbody tr th:only-of-type {\n        vertical-align: middle;\n    }\n\n    .dataframe tbody tr th {\n        vertical-align: top;\n    }\n\n    .dataframe thead th {\n        text-align: right;\n    }\n</style>\n<table border=\"1\" class=\"dataframe\">\n  <thead>\n    <tr style=\"text-align: right;\">\n      <th></th>\n      <th>home_team_Afghanistan</th>\n      <th>home_team_Albania</th>\n      <th>home_team_Algeria</th>\n      <th>home_team_Andorra</th>\n      <th>home_team_Angola</th>\n      <th>home_team_Antigua and Barbuda</th>\n      <th>home_team_Armenia</th>\n      <th>home_team_Austria</th>\n      <th>home_team_Azerbaijan</th>\n      <th>home_team_Bahrain</th>\n      <th>...</th>\n      <th>away_team_瑞典</th>\n      <th>away_team_瑞士</th>\n      <th>away_team_突尼斯</th>\n      <th>away_team_美国</th>\n      <th>away_team_英格兰</th>\n      <th>away_team_荷兰</th>\n      <th>away_team_葡萄牙</th>\n      <th>away_team_西班牙</th>\n      <th>away_team_阿根廷</th>\n      <th>away_team_韩国</th>\n    </tr>\n  </thead>\n  <tbody>\n    <tr>\n      <th>0</th>\n      <td>0</td>\n      <td>0</td>\n      <td>0</td>\n      <td>0</td>\n      <td>0</td>\n      <td>0</td>\n      <td>0</td>\n      <td>0</td>\n      <td>0</td>\n      <td>0</td>\n      <td>...</td>\n      <td>0</td>\n      <td>0</td>\n      <td>0</td>\n      <td>0</td>\n      <td>0</td>\n      <td>1</td>\n      <td>0</td>\n      <td>0</td>\n      <td>0</td>\n      <td>0</td>\n    </tr>\n    <tr>\n      <th>1</th>\n      <td>0</td>\n      <td>0</td>\n      <td>0</td>\n      <td>0</td>\n      <td>0</td>\n      <td>0</td>\n      <td>0</td>\n      <td>0</td>\n      <td>0</td>\n      <td>0</td>\n      <td>...</td>\n      <td>0</td>\n      <td>0</td>\n      <td>0</td>\n      <td>0</td>\n      <td>0</td>\n      <td>0</td>\n      <td>0</td>\n      <td>0</td>\n      <td>0</td>\n      <td>0</td>\n    </tr>\n    <tr>\n      <th>2</th>\n      <td>0</td>\n      <td>0</td>\n      <td>0</td>\n      <td>0</td>\n      <td>0</td>\n      <td>0</td>\n      <td>0</td>\n      <td>0</td>\n      <td>0</td>\n      <td>0</td>\n      <td>...</td>\n      <td>0</td>\n      <td>0</td>\n      <td>0</td>\n      <td>0</td>\n      <td>0</td>\n      <td>0</td>\n      <td>0</td>\n      <td>0</td>\n      <td>0</td>\n      <td>0</td>\n    </tr>\n    <tr>\n      <th>3</th>\n      <td>0</td>\n      <td>0</td>\n      <td>0</td>\n      <td>0</td>\n      <td>0</td>\n      <td>0</td>\n      <td>0</td>\n      <td>0</td>\n      <td>0</td>\n      <td>0</td>\n      <td>...</td>\n      <td>0</td>\n      <td>0</td>\n      <td>0</td>\n      <td>0</td>\n      <td>0</td>\n      <td>0</td>\n      <td>0</td>\n      <td>0</td>\n      <td>0</td>\n      <td>0</td>\n    </tr>\n    <tr>\n      <th>4</th>\n      <td>0</td>\n      <td>0</td>\n      <td>0</td>\n      <td>0</td>\n      <td>0</td>\n      <td>0</td>\n      <td>0</td>\n      <td>0</td>\n      <td>0</td>\n      <td>0</td>\n      <td>...</td>\n      <td>0</td>\n      <td>0</td>\n      <td>0</td>\n      <td>0</td>\n      <td>0</td>\n      <td>0</td>\n      <td>0</td>\n      <td>0</td>\n      <td>0</td>\n      <td>0</td>\n    </tr>\n    <tr>\n      <th>...</th>\n      <td>...</td>\n      <td>...</td>\n      <td>...</td>\n      <td>...</td>\n      <td>...</td>\n      <td>...</td>\n      <td>...</td>\n      <td>...</td>\n      <td>...</td>\n      <td>...</td>\n      <td>...</td>\n      <td>...</td>\n      <td>...</td>\n      <td>...</td>\n      <td>...</td>\n      <td>...</td>\n      <td>...</td>\n      <td>...</td>\n      <td>...</td>\n      <td>...</td>\n      <td>...</td>\n    </tr>\n    <tr>\n      <th>15535</th>\n      <td>0</td>\n      <td>0</td>\n      <td>0</td>\n      <td>0</td>\n      <td>0</td>\n      <td>0</td>\n      <td>0</td>\n      <td>0</td>\n      <td>0</td>\n      <td>0</td>\n      <td>...</td>\n      <td>0</td>\n      <td>0</td>\n      <td>0</td>\n      <td>0</td>\n      <td>0</td>\n      <td>0</td>\n      <td>0</td>\n      <td>0</td>\n      <td>0</td>\n      <td>0</td>\n    </tr>\n    <tr>\n      <th>15536</th>\n      <td>0</td>\n      <td>0</td>\n      <td>1</td>\n      <td>0</td>\n      <td>0</td>\n      <td>0</td>\n      <td>0</td>\n      <td>0</td>\n      <td>0</td>\n      <td>0</td>\n      <td>...</td>\n      <td>0</td>\n      <td>0</td>\n      <td>0</td>\n      <td>0</td>\n      <td>0</td>\n      <td>0</td>\n      <td>0</td>\n      <td>0</td>\n      <td>0</td>\n      <td>0</td>\n    </tr>\n    <tr>\n      <th>15537</th>\n      <td>0</td>\n      <td>0</td>\n      <td>0</td>\n      <td>0</td>\n      <td>0</td>\n      <td>0</td>\n      <td>0</td>\n      <td>0</td>\n      <td>0</td>\n      <td>0</td>\n      <td>...</td>\n      <td>0</td>\n      <td>0</td>\n      <td>0</td>\n      <td>0</td>\n      <td>0</td>\n      <td>0</td>\n      <td>0</td>\n      <td>0</td>\n      <td>0</td>\n      <td>0</td>\n    </tr>\n    <tr>\n      <th>15538</th>\n      <td>0</td>\n      <td>0</td>\n      <td>0</td>\n      <td>0</td>\n      <td>0</td>\n      <td>0</td>\n      <td>0</td>\n      <td>0</td>\n      <td>0</td>\n      <td>0</td>\n      <td>...</td>\n      <td>0</td>\n      <td>0</td>\n      <td>0</td>\n      <td>0</td>\n      <td>0</td>\n      <td>0</td>\n      <td>0</td>\n      <td>0</td>\n      <td>0</td>\n      <td>0</td>\n    </tr>\n    <tr>\n      <th>15539</th>\n      <td>0</td>\n      <td>0</td>\n      <td>0</td>\n      <td>0</td>\n      <td>0</td>\n      <td>0</td>\n      <td>0</td>\n      <td>0</td>\n      <td>0</td>\n      <td>0</td>\n      <td>...</td>\n      <td>0</td>\n      <td>0</td>\n      <td>0</td>\n      <td>0</td>\n      <td>0</td>\n      <td>0</td>\n      <td>0</td>\n      <td>0</td>\n      <td>0</td>\n      <td>1</td>\n    </tr>\n  </tbody>\n</table>\n<p>15540 rows × 415 columns</p>\n</div>"
     },
     "execution_count": 25,
     "metadata": {},
     "output_type": "execute_result"
    }
   ],
   "source": [
    "X"
   ],
   "metadata": {
    "collapsed": false
   }
  },
  {
   "cell_type": "code",
   "execution_count": 26,
   "outputs": [
    {
     "data": {
      "text/plain": "0        1\n1        2\n2        2\n3        1\n4        2\n        ..\n15535    2\n15536    0\n15537    1\n15538    2\n15539    2\nName: winning_team, Length: 15540, dtype: object"
     },
     "execution_count": 26,
     "metadata": {},
     "output_type": "execute_result"
    }
   ],
   "source": [
    "y"
   ],
   "metadata": {
    "collapsed": false
   }
  },
  {
   "cell_type": "markdown",
   "source": [
    "train_test_split方法能够将数据集按照用户的需要指定划分为训练集和测试集"
   ],
   "metadata": {
    "collapsed": false
   }
  },
  {
   "cell_type": "code",
   "execution_count": 27,
   "outputs": [],
   "source": [
    "y = y.astype('int')\n",
    "# 分离训练集和测试集\n",
    "X_train, X_test, y_train, y_test = train_test_split(X, y, test_size=0.30, random_state=42)"
   ],
   "metadata": {
    "collapsed": false
   }
  },
  {
   "cell_type": "code",
   "execution_count": 28,
   "metadata": {},
   "outputs": [
    {
     "data": {
      "text/plain": "  winning_team  home_team_Afghanistan  home_team_Albania  home_team_Algeria  \\\n0            1                      0                  0                  0   \n1            2                      0                  0                  0   \n2            2                      0                  0                  0   \n3            1                      0                  0                  0   \n4            2                      0                  0                  0   \n\n   home_team_Andorra  home_team_Angola  home_team_Antigua and Barbuda  \\\n0                  0                 0                              0   \n1                  0                 0                              0   \n2                  0                 0                              0   \n3                  0                 0                              0   \n4                  0                 0                              0   \n\n   home_team_Armenia  home_team_Austria  home_team_Azerbaijan  ...  \\\n0                  0                  0                     0  ...   \n1                  0                  0                     0  ...   \n2                  0                  0                     0  ...   \n3                  0                  0                     0  ...   \n4                  0                  0                     0  ...   \n\n   away_team_瑞典  away_team_瑞士  away_team_突尼斯  away_team_美国  away_team_英格兰  \\\n0             0             0              0             0              0   \n1             0             0              0             0              0   \n2             0             0              0             0              0   \n3             0             0              0             0              0   \n4             0             0              0             0              0   \n\n   away_team_荷兰  away_team_葡萄牙  away_team_西班牙  away_team_阿根廷  away_team_韩国  \n0             1              0              0              0             0  \n1             0              0              0              0             0  \n2             0              0              0              0             0  \n3             0              0              0              0             0  \n4             0              0              0              0             0  \n\n[5 rows x 416 columns]",
      "text/html": "<div>\n<style scoped>\n    .dataframe tbody tr th:only-of-type {\n        vertical-align: middle;\n    }\n\n    .dataframe tbody tr th {\n        vertical-align: top;\n    }\n\n    .dataframe thead th {\n        text-align: right;\n    }\n</style>\n<table border=\"1\" class=\"dataframe\">\n  <thead>\n    <tr style=\"text-align: right;\">\n      <th></th>\n      <th>winning_team</th>\n      <th>home_team_Afghanistan</th>\n      <th>home_team_Albania</th>\n      <th>home_team_Algeria</th>\n      <th>home_team_Andorra</th>\n      <th>home_team_Angola</th>\n      <th>home_team_Antigua and Barbuda</th>\n      <th>home_team_Armenia</th>\n      <th>home_team_Austria</th>\n      <th>home_team_Azerbaijan</th>\n      <th>...</th>\n      <th>away_team_瑞典</th>\n      <th>away_team_瑞士</th>\n      <th>away_team_突尼斯</th>\n      <th>away_team_美国</th>\n      <th>away_team_英格兰</th>\n      <th>away_team_荷兰</th>\n      <th>away_team_葡萄牙</th>\n      <th>away_team_西班牙</th>\n      <th>away_team_阿根廷</th>\n      <th>away_team_韩国</th>\n    </tr>\n  </thead>\n  <tbody>\n    <tr>\n      <th>0</th>\n      <td>1</td>\n      <td>0</td>\n      <td>0</td>\n      <td>0</td>\n      <td>0</td>\n      <td>0</td>\n      <td>0</td>\n      <td>0</td>\n      <td>0</td>\n      <td>0</td>\n      <td>...</td>\n      <td>0</td>\n      <td>0</td>\n      <td>0</td>\n      <td>0</td>\n      <td>0</td>\n      <td>1</td>\n      <td>0</td>\n      <td>0</td>\n      <td>0</td>\n      <td>0</td>\n    </tr>\n    <tr>\n      <th>1</th>\n      <td>2</td>\n      <td>0</td>\n      <td>0</td>\n      <td>0</td>\n      <td>0</td>\n      <td>0</td>\n      <td>0</td>\n      <td>0</td>\n      <td>0</td>\n      <td>0</td>\n      <td>...</td>\n      <td>0</td>\n      <td>0</td>\n      <td>0</td>\n      <td>0</td>\n      <td>0</td>\n      <td>0</td>\n      <td>0</td>\n      <td>0</td>\n      <td>0</td>\n      <td>0</td>\n    </tr>\n    <tr>\n      <th>2</th>\n      <td>2</td>\n      <td>0</td>\n      <td>0</td>\n      <td>0</td>\n      <td>0</td>\n      <td>0</td>\n      <td>0</td>\n      <td>0</td>\n      <td>0</td>\n      <td>0</td>\n      <td>...</td>\n      <td>0</td>\n      <td>0</td>\n      <td>0</td>\n      <td>0</td>\n      <td>0</td>\n      <td>0</td>\n      <td>0</td>\n      <td>0</td>\n      <td>0</td>\n      <td>0</td>\n    </tr>\n    <tr>\n      <th>3</th>\n      <td>1</td>\n      <td>0</td>\n      <td>0</td>\n      <td>0</td>\n      <td>0</td>\n      <td>0</td>\n      <td>0</td>\n      <td>0</td>\n      <td>0</td>\n      <td>0</td>\n      <td>...</td>\n      <td>0</td>\n      <td>0</td>\n      <td>0</td>\n      <td>0</td>\n      <td>0</td>\n      <td>0</td>\n      <td>0</td>\n      <td>0</td>\n      <td>0</td>\n      <td>0</td>\n    </tr>\n    <tr>\n      <th>4</th>\n      <td>2</td>\n      <td>0</td>\n      <td>0</td>\n      <td>0</td>\n      <td>0</td>\n      <td>0</td>\n      <td>0</td>\n      <td>0</td>\n      <td>0</td>\n      <td>0</td>\n      <td>...</td>\n      <td>0</td>\n      <td>0</td>\n      <td>0</td>\n      <td>0</td>\n      <td>0</td>\n      <td>0</td>\n      <td>0</td>\n      <td>0</td>\n      <td>0</td>\n      <td>0</td>\n    </tr>\n  </tbody>\n</table>\n<p>5 rows × 416 columns</p>\n</div>"
     },
     "execution_count": 28,
     "metadata": {},
     "output_type": "execute_result"
    }
   ],
   "source": [
    "final.head()"
   ]
  },
  {
   "cell_type": "markdown",
   "source": [
    "这里我们将使用分类算法：逻辑回归。这个算法的工作原理是什么？该算法利用逻辑函数来预测概率，从而可以测量出分类因变量与一个或多个自变量之间的关系。具体来说就是累积的逻辑分布。\n",
    "\n",
    "换句话说，逻辑回归可以针对一组可以影响到结果的既定数据集（统计值）尝试预测结果（赢或输）。\n",
    "\n",
    "在实践中这种方法的工作原理是：使用上述的两套“数据集”和比赛的实际结果，一次输入一场比赛到算法中。然后模型就会学习输入的每条数据对比赛结果产生了积极的效果还是消极的效果，以及影响的程度。\n",
    "\n",
    "经过充分的（好）数据的训练后，就可以得到能够预测未来结果的模型，而模型的好坏程度取决于输入的数据。\n",
    "\n",
    "之后我们将这些数据传递到算法中："
   ],
   "metadata": {
    "collapsed": false
   }
  },
  {
   "cell_type": "markdown",
   "source": [
    "逻辑回归是一个非常经典的算法，用于解决分类问题的机器学习方法，用于估计某种事物的可能性，其有着简单、可并行化、可解释强的特点。逻辑回归虽然被称为回归，实际上是分类模型，并常用于二分类。"
   ],
   "metadata": {
    "collapsed": false
   }
  },
  {
   "cell_type": "markdown",
   "source": [
    "逻辑回归训练后的模型是平面的一条直线（p=2),或是平面（p=3)，超平面（p>3)。并且这条线或平面把空间中的散点分成两半，属于同一类的数据大多数分布在曲线或平面的同一侧。"
   ],
   "metadata": {
    "collapsed": false
   }
  },
  {
   "cell_type": "code",
   "execution_count": 29,
   "outputs": [
    {
     "data": {
      "text/plain": "'\\nfit(X, y, sample_weight=None)：拟合模型，用来训练LR分类器，其中X是训练样本，y是对应的标记向量\\npredict(X)：用来预测样本，也就是分类，X是测试集。返回array。\\nscore(X, y, sample_weight=None) ：返回给定测试集合的平均准确率（mean accuracy），浮点型数值。 对于多个分类返回，则返回每个类别的准确率组成的哈希矩阵。R^2评估模型\\n'"
     },
     "execution_count": 29,
     "metadata": {},
     "output_type": "execute_result"
    }
   ],
   "source": [
    "'''\n",
    "fit(X, y, sample_weight=None)：拟合模型，用来训练LR分类器，其中X是训练样本，y是对应的标记向量\n",
    "predict(X)：用来预测样本，也就是分类，X是测试集。返回array。\n",
    "score(X, y, sample_weight=None) ：返回给定测试集合的平均准确率（mean accuracy），浮点型数值。 对于多个分类返回，则返回每个类别的准确率组成的哈希矩阵。R^2评估模型\n",
    "'''"
   ],
   "metadata": {
    "collapsed": false
   }
  },
  {
   "cell_type": "code",
   "execution_count": 30,
   "metadata": {},
   "outputs": [
    {
     "name": "stdout",
     "output_type": "stream",
     "text": [
      "Training set accuracy:  0.583\n",
      "Test set accuracy:  0.548\n"
     ]
    }
   ],
   "source": [
    "logreg = LogisticRegression(max_iter=10000)\n",
    "logreg.fit(X_train, y_train)\n",
    "score = logreg.score(X_train, y_train)\n",
    "score2 = logreg.score(X_test, y_test)\n",
    "\n",
    "print(\"Training set accuracy: \", '%.3f'%(score))\n",
    "print(\"Test set accuracy: \", '%.3f'%(score2))"
   ]
  },
  {
   "cell_type": "markdown",
   "source": [
    "我们的模型子训练数据集的正确率为 58%，在测试数据集上的正确率为 54%。虽然结果不是很好，但是我们先继续下一步。\n",
    "\n",
    "接下来我们建立需要配置到模型的数据框。\n",
    "\n",
    "首先我们加载 2022 年 10 月 FIFA 排名数据和小组赛分组状况的数据集。由于世界杯比赛中没有“主场”和“客场”，所以我们把 FIFA 排名靠前的队伍作为“喜爱”的比赛队伍，将他们放到“home_teams”（主场队伍）一列。然后我们根据每个队伍的排名将他们加入到新的预测数据集中。下一步是创建默认变量，并部署机器学习模型。"
   ],
   "metadata": {
    "collapsed": false
   }
  },
  {
   "cell_type": "code",
   "execution_count": 31,
   "metadata": {},
   "outputs": [],
   "source": [
    "'''\n",
    "#添加国际足联排名\n",
    "#在国际足联排名中排名靠前的球队将被认为是这场比赛的“热门”\n",
    "#因此，将位于“home_teams”列下\n",
    "#因为世界杯比赛中没有“主场”或“客场”球队\n",
    "'''\n",
    "'''加载新的数据集'''\n",
    "ranking = pd.read_csv('datasets/fifa_ranking_2022.csv')             # 国际足联排名\n",
    "fixtures = pd.read_csv('datasets/2022_world_cup_matches.csv')\n",
    "# 固定小组\n",
    "\n",
    "'''存储小组赛的列表'''\n",
    "pred_set = []"
   ]
  },
  {
   "cell_type": "code",
   "execution_count": 32,
   "outputs": [
    {
     "data": {
      "text/plain": "    ID  Year        Date           Stage Home Team Away Team Host Team\n0    1  2022  2022/11/20     Group stage       卡塔尔      厄瓜多尔      True\n1    2  2022  2022/11/21     Group stage      塞内加尔        荷兰     False\n2    3  2022  2022/11/21     Group stage       英格兰        伊朗     False\n3    4  2022  2022/11/21     Group stage        美国       威尔士     False\n4    5  2022  2022/11/22     Group stage        法国      澳大利亚     False\n..  ..   ...         ...             ...       ...       ...       ...\n59  60  2022  2022/12/10  Quarter-finals       W55       W56       NaN\n60  61  2022  2022/12/13     Semi-finals       W57       W58       NaN\n61  62  2022  2022/12/14     Semi-finals       W59       W60       NaN\n62  63  2022  2022/12/17     Third place       L61       L62       NaN\n63  64  2022  2022/12/18           Final       W61       W62       NaN\n\n[64 rows x 7 columns]",
      "text/html": "<div>\n<style scoped>\n    .dataframe tbody tr th:only-of-type {\n        vertical-align: middle;\n    }\n\n    .dataframe tbody tr th {\n        vertical-align: top;\n    }\n\n    .dataframe thead th {\n        text-align: right;\n    }\n</style>\n<table border=\"1\" class=\"dataframe\">\n  <thead>\n    <tr style=\"text-align: right;\">\n      <th></th>\n      <th>ID</th>\n      <th>Year</th>\n      <th>Date</th>\n      <th>Stage</th>\n      <th>Home Team</th>\n      <th>Away Team</th>\n      <th>Host Team</th>\n    </tr>\n  </thead>\n  <tbody>\n    <tr>\n      <th>0</th>\n      <td>1</td>\n      <td>2022</td>\n      <td>2022/11/20</td>\n      <td>Group stage</td>\n      <td>卡塔尔</td>\n      <td>厄瓜多尔</td>\n      <td>True</td>\n    </tr>\n    <tr>\n      <th>1</th>\n      <td>2</td>\n      <td>2022</td>\n      <td>2022/11/21</td>\n      <td>Group stage</td>\n      <td>塞内加尔</td>\n      <td>荷兰</td>\n      <td>False</td>\n    </tr>\n    <tr>\n      <th>2</th>\n      <td>3</td>\n      <td>2022</td>\n      <td>2022/11/21</td>\n      <td>Group stage</td>\n      <td>英格兰</td>\n      <td>伊朗</td>\n      <td>False</td>\n    </tr>\n    <tr>\n      <th>3</th>\n      <td>4</td>\n      <td>2022</td>\n      <td>2022/11/21</td>\n      <td>Group stage</td>\n      <td>美国</td>\n      <td>威尔士</td>\n      <td>False</td>\n    </tr>\n    <tr>\n      <th>4</th>\n      <td>5</td>\n      <td>2022</td>\n      <td>2022/11/22</td>\n      <td>Group stage</td>\n      <td>法国</td>\n      <td>澳大利亚</td>\n      <td>False</td>\n    </tr>\n    <tr>\n      <th>...</th>\n      <td>...</td>\n      <td>...</td>\n      <td>...</td>\n      <td>...</td>\n      <td>...</td>\n      <td>...</td>\n      <td>...</td>\n    </tr>\n    <tr>\n      <th>59</th>\n      <td>60</td>\n      <td>2022</td>\n      <td>2022/12/10</td>\n      <td>Quarter-finals</td>\n      <td>W55</td>\n      <td>W56</td>\n      <td>NaN</td>\n    </tr>\n    <tr>\n      <th>60</th>\n      <td>61</td>\n      <td>2022</td>\n      <td>2022/12/13</td>\n      <td>Semi-finals</td>\n      <td>W57</td>\n      <td>W58</td>\n      <td>NaN</td>\n    </tr>\n    <tr>\n      <th>61</th>\n      <td>62</td>\n      <td>2022</td>\n      <td>2022/12/14</td>\n      <td>Semi-finals</td>\n      <td>W59</td>\n      <td>W60</td>\n      <td>NaN</td>\n    </tr>\n    <tr>\n      <th>62</th>\n      <td>63</td>\n      <td>2022</td>\n      <td>2022/12/17</td>\n      <td>Third place</td>\n      <td>L61</td>\n      <td>L62</td>\n      <td>NaN</td>\n    </tr>\n    <tr>\n      <th>63</th>\n      <td>64</td>\n      <td>2022</td>\n      <td>2022/12/18</td>\n      <td>Final</td>\n      <td>W61</td>\n      <td>W62</td>\n      <td>NaN</td>\n    </tr>\n  </tbody>\n</table>\n<p>64 rows × 7 columns</p>\n</div>"
     },
     "execution_count": 32,
     "metadata": {},
     "output_type": "execute_result"
    }
   ],
   "source": [
    "fixtures"
   ],
   "metadata": {
    "collapsed": false
   }
  },
  {
   "cell_type": "markdown",
   "source": [
    "pandas提供了使用insert函数使得我们可以在任意位置添加新列。\n",
    "我们需要通过传递索引作为第一个参数来指定位置。此值必须是整数。列索引从零开始，就像行索引一样，第二个参数是列名，第三个参数是对象，这些对象可以是Series或数组。"
   ],
   "metadata": {
    "collapsed": false
   }
  },
  {
   "cell_type": "markdown",
   "source": [
    "set_index 仅适用于 DataFrame, 作用是重新设置 DataFrame 的行索引"
   ],
   "metadata": {
    "collapsed": false
   }
  },
  {
   "cell_type": "markdown",
   "source": [
    "map()函数可以用于Series对象或DataFrame对象的一列，接收函数作为或字典对象作为参数，返回经过函数或字典映射处理后的值"
   ],
   "metadata": {
    "collapsed": false
   }
  },
  {
   "cell_type": "code",
   "execution_count": 33,
   "metadata": {},
   "outputs": [
    {
     "data": {
      "text/plain": "    ID  home_team_rank  away_team_rank  Year        Date        Stage  \\\n0    1            50.0            44.0  2022  2022/11/20  Group stage   \n1    2            18.0             8.0  2022  2022/11/21  Group stage   \n2    3             5.0            20.0  2022  2022/11/21  Group stage   \n3    4            16.0            19.0  2022  2022/11/21  Group stage   \n4    5             4.0            38.0  2022  2022/11/22  Group stage   \n5    6            10.0            30.0  2022  2022/11/22  Group stage   \n6    7            13.0            26.0  2022  2022/11/22  Group stage   \n7    8             3.0            51.0  2022  2022/11/22  Group stage   \n8    9             2.0            41.0  2022  2022/11/23  Group stage   \n9   10             7.0            31.0  2022  2022/11/23  Group stage   \n10  11            11.0            24.0  2022  2022/11/23  Group stage   \n11  12            22.0            12.0  2022  2022/11/23  Group stage   \n12  13            15.0            43.0  2022  2022/11/24  Group stage   \n13  14            14.0            28.0  2022  2022/11/24  Group stage   \n14  15             9.0            61.0  2022  2022/11/24  Group stage   \n15  16             1.0            21.0  2022  2022/11/24  Group stage   \n16  17            20.0            19.0  2022  2022/11/25  Group stage   \n17  18            50.0            18.0  2022  2022/11/25  Group stage   \n18  19             8.0            44.0  2022  2022/11/25  Group stage   \n19  20             5.0            16.0  2022  2022/11/25  Group stage   \n20  21            30.0            38.0  2022  2022/11/26  Group stage   \n21  22            26.0            51.0  2022  2022/11/26  Group stage   \n22  23             4.0            10.0  2022  2022/11/26  Group stage   \n23  24             3.0            13.0  2022  2022/11/26  Group stage   \n24  25            24.0            31.0  2022  2022/11/27  Group stage   \n25  26             2.0            22.0  2022  2022/11/27  Group stage   \n26  27            12.0            41.0  2022  2022/11/27  Group stage   \n27  28             7.0            11.0  2022  2022/11/27  Group stage   \n28  29            21.0            43.0  2022  2022/11/28  Group stage   \n29  30            28.0            61.0  2022  2022/11/28  Group stage   \n30  31             1.0            15.0  2022  2022/11/28  Group stage   \n31  32             9.0            14.0  2022  2022/11/28  Group stage   \n32  33             5.0            19.0  2022  2022/11/29  Group stage   \n33  34            20.0            16.0  2022  2022/11/29  Group stage   \n34  35            44.0            18.0  2022  2022/11/29  Group stage   \n35  36            50.0             8.0  2022  2022/11/29  Group stage   \n36  37            10.0            38.0  2022  2022/11/30  Group stage   \n37  38            30.0             4.0  2022  2022/11/30  Group stage   \n38  39            26.0             3.0  2022  2022/11/30  Group stage   \n39  40            51.0            13.0  2022  2022/11/30  Group stage   \n40  41            12.0             2.0  2022   2022/12/1  Group stage   \n41  42            41.0            22.0  2022   2022/12/1  Group stage   \n42  43            24.0             7.0  2022   2022/12/1  Group stage   \n43  44            31.0            11.0  2022   2022/12/1  Group stage   \n44  45            61.0            14.0  2022   2022/12/2  Group stage   \n45  46            28.0             9.0  2022   2022/12/2  Group stage   \n46  47            21.0            15.0  2022   2022/12/2  Group stage   \n47  48             1.0            43.0  2022   2022/12/2  Group stage   \n\n   Home Team Away Team Host Team  \n0        卡塔尔      厄瓜多尔      True  \n1       塞内加尔        荷兰     False  \n2        英格兰        伊朗     False  \n3         美国       威尔士     False  \n4         法国      澳大利亚     False  \n5         丹麦       突尼斯     False  \n6        墨西哥        波兰     False  \n7        阿根廷     沙特阿拉伯     False  \n8        比利时       加拿大     False  \n9        西班牙     哥斯达黎加     False  \n10        德国        日本     False  \n11       摩洛哥      克罗地亚     False  \n12        瑞士       喀麦隆     False  \n13       乌拉圭        韩国     False  \n14       葡萄牙        加纳     False  \n15        巴西      塞尔维亚     False  \n16        伊朗       威尔士     False  \n17       卡塔尔      塞内加尔      True  \n18        荷兰      厄瓜多尔     False  \n19       英格兰        美国     False  \n20       突尼斯      澳大利亚     False  \n21        波兰     沙特阿拉伯     False  \n22        法国        丹麦     False  \n23       阿根廷       墨西哥     False  \n24        日本     哥斯达黎加     False  \n25       比利时       摩洛哥     False  \n26      克罗地亚       加拿大     False  \n27       西班牙        德国     False  \n28      塞尔维亚       喀麦隆     False  \n29        韩国        加纳     False  \n30        巴西        瑞士     False  \n31       葡萄牙       乌拉圭     False  \n32       英格兰       威尔士     False  \n33        伊朗        美国     False  \n34      厄瓜多尔      塞内加尔     False  \n35       卡塔尔        荷兰      True  \n36        丹麦      澳大利亚     False  \n37       突尼斯        法国     False  \n38        波兰       阿根廷     False  \n39     沙特阿拉伯       墨西哥     False  \n40      克罗地亚       比利时     False  \n41       加拿大       摩洛哥     False  \n42        日本       西班牙     False  \n43     哥斯达黎加        德国     False  \n44        加纳       乌拉圭     False  \n45        韩国       葡萄牙     False  \n46      塞尔维亚        瑞士     False  \n47        巴西       喀麦隆     False  ",
      "text/html": "<div>\n<style scoped>\n    .dataframe tbody tr th:only-of-type {\n        vertical-align: middle;\n    }\n\n    .dataframe tbody tr th {\n        vertical-align: top;\n    }\n\n    .dataframe thead th {\n        text-align: right;\n    }\n</style>\n<table border=\"1\" class=\"dataframe\">\n  <thead>\n    <tr style=\"text-align: right;\">\n      <th></th>\n      <th>ID</th>\n      <th>home_team_rank</th>\n      <th>away_team_rank</th>\n      <th>Year</th>\n      <th>Date</th>\n      <th>Stage</th>\n      <th>Home Team</th>\n      <th>Away Team</th>\n      <th>Host Team</th>\n    </tr>\n  </thead>\n  <tbody>\n    <tr>\n      <th>0</th>\n      <td>1</td>\n      <td>50.0</td>\n      <td>44.0</td>\n      <td>2022</td>\n      <td>2022/11/20</td>\n      <td>Group stage</td>\n      <td>卡塔尔</td>\n      <td>厄瓜多尔</td>\n      <td>True</td>\n    </tr>\n    <tr>\n      <th>1</th>\n      <td>2</td>\n      <td>18.0</td>\n      <td>8.0</td>\n      <td>2022</td>\n      <td>2022/11/21</td>\n      <td>Group stage</td>\n      <td>塞内加尔</td>\n      <td>荷兰</td>\n      <td>False</td>\n    </tr>\n    <tr>\n      <th>2</th>\n      <td>3</td>\n      <td>5.0</td>\n      <td>20.0</td>\n      <td>2022</td>\n      <td>2022/11/21</td>\n      <td>Group stage</td>\n      <td>英格兰</td>\n      <td>伊朗</td>\n      <td>False</td>\n    </tr>\n    <tr>\n      <th>3</th>\n      <td>4</td>\n      <td>16.0</td>\n      <td>19.0</td>\n      <td>2022</td>\n      <td>2022/11/21</td>\n      <td>Group stage</td>\n      <td>美国</td>\n      <td>威尔士</td>\n      <td>False</td>\n    </tr>\n    <tr>\n      <th>4</th>\n      <td>5</td>\n      <td>4.0</td>\n      <td>38.0</td>\n      <td>2022</td>\n      <td>2022/11/22</td>\n      <td>Group stage</td>\n      <td>法国</td>\n      <td>澳大利亚</td>\n      <td>False</td>\n    </tr>\n    <tr>\n      <th>5</th>\n      <td>6</td>\n      <td>10.0</td>\n      <td>30.0</td>\n      <td>2022</td>\n      <td>2022/11/22</td>\n      <td>Group stage</td>\n      <td>丹麦</td>\n      <td>突尼斯</td>\n      <td>False</td>\n    </tr>\n    <tr>\n      <th>6</th>\n      <td>7</td>\n      <td>13.0</td>\n      <td>26.0</td>\n      <td>2022</td>\n      <td>2022/11/22</td>\n      <td>Group stage</td>\n      <td>墨西哥</td>\n      <td>波兰</td>\n      <td>False</td>\n    </tr>\n    <tr>\n      <th>7</th>\n      <td>8</td>\n      <td>3.0</td>\n      <td>51.0</td>\n      <td>2022</td>\n      <td>2022/11/22</td>\n      <td>Group stage</td>\n      <td>阿根廷</td>\n      <td>沙特阿拉伯</td>\n      <td>False</td>\n    </tr>\n    <tr>\n      <th>8</th>\n      <td>9</td>\n      <td>2.0</td>\n      <td>41.0</td>\n      <td>2022</td>\n      <td>2022/11/23</td>\n      <td>Group stage</td>\n      <td>比利时</td>\n      <td>加拿大</td>\n      <td>False</td>\n    </tr>\n    <tr>\n      <th>9</th>\n      <td>10</td>\n      <td>7.0</td>\n      <td>31.0</td>\n      <td>2022</td>\n      <td>2022/11/23</td>\n      <td>Group stage</td>\n      <td>西班牙</td>\n      <td>哥斯达黎加</td>\n      <td>False</td>\n    </tr>\n    <tr>\n      <th>10</th>\n      <td>11</td>\n      <td>11.0</td>\n      <td>24.0</td>\n      <td>2022</td>\n      <td>2022/11/23</td>\n      <td>Group stage</td>\n      <td>德国</td>\n      <td>日本</td>\n      <td>False</td>\n    </tr>\n    <tr>\n      <th>11</th>\n      <td>12</td>\n      <td>22.0</td>\n      <td>12.0</td>\n      <td>2022</td>\n      <td>2022/11/23</td>\n      <td>Group stage</td>\n      <td>摩洛哥</td>\n      <td>克罗地亚</td>\n      <td>False</td>\n    </tr>\n    <tr>\n      <th>12</th>\n      <td>13</td>\n      <td>15.0</td>\n      <td>43.0</td>\n      <td>2022</td>\n      <td>2022/11/24</td>\n      <td>Group stage</td>\n      <td>瑞士</td>\n      <td>喀麦隆</td>\n      <td>False</td>\n    </tr>\n    <tr>\n      <th>13</th>\n      <td>14</td>\n      <td>14.0</td>\n      <td>28.0</td>\n      <td>2022</td>\n      <td>2022/11/24</td>\n      <td>Group stage</td>\n      <td>乌拉圭</td>\n      <td>韩国</td>\n      <td>False</td>\n    </tr>\n    <tr>\n      <th>14</th>\n      <td>15</td>\n      <td>9.0</td>\n      <td>61.0</td>\n      <td>2022</td>\n      <td>2022/11/24</td>\n      <td>Group stage</td>\n      <td>葡萄牙</td>\n      <td>加纳</td>\n      <td>False</td>\n    </tr>\n    <tr>\n      <th>15</th>\n      <td>16</td>\n      <td>1.0</td>\n      <td>21.0</td>\n      <td>2022</td>\n      <td>2022/11/24</td>\n      <td>Group stage</td>\n      <td>巴西</td>\n      <td>塞尔维亚</td>\n      <td>False</td>\n    </tr>\n    <tr>\n      <th>16</th>\n      <td>17</td>\n      <td>20.0</td>\n      <td>19.0</td>\n      <td>2022</td>\n      <td>2022/11/25</td>\n      <td>Group stage</td>\n      <td>伊朗</td>\n      <td>威尔士</td>\n      <td>False</td>\n    </tr>\n    <tr>\n      <th>17</th>\n      <td>18</td>\n      <td>50.0</td>\n      <td>18.0</td>\n      <td>2022</td>\n      <td>2022/11/25</td>\n      <td>Group stage</td>\n      <td>卡塔尔</td>\n      <td>塞内加尔</td>\n      <td>True</td>\n    </tr>\n    <tr>\n      <th>18</th>\n      <td>19</td>\n      <td>8.0</td>\n      <td>44.0</td>\n      <td>2022</td>\n      <td>2022/11/25</td>\n      <td>Group stage</td>\n      <td>荷兰</td>\n      <td>厄瓜多尔</td>\n      <td>False</td>\n    </tr>\n    <tr>\n      <th>19</th>\n      <td>20</td>\n      <td>5.0</td>\n      <td>16.0</td>\n      <td>2022</td>\n      <td>2022/11/25</td>\n      <td>Group stage</td>\n      <td>英格兰</td>\n      <td>美国</td>\n      <td>False</td>\n    </tr>\n    <tr>\n      <th>20</th>\n      <td>21</td>\n      <td>30.0</td>\n      <td>38.0</td>\n      <td>2022</td>\n      <td>2022/11/26</td>\n      <td>Group stage</td>\n      <td>突尼斯</td>\n      <td>澳大利亚</td>\n      <td>False</td>\n    </tr>\n    <tr>\n      <th>21</th>\n      <td>22</td>\n      <td>26.0</td>\n      <td>51.0</td>\n      <td>2022</td>\n      <td>2022/11/26</td>\n      <td>Group stage</td>\n      <td>波兰</td>\n      <td>沙特阿拉伯</td>\n      <td>False</td>\n    </tr>\n    <tr>\n      <th>22</th>\n      <td>23</td>\n      <td>4.0</td>\n      <td>10.0</td>\n      <td>2022</td>\n      <td>2022/11/26</td>\n      <td>Group stage</td>\n      <td>法国</td>\n      <td>丹麦</td>\n      <td>False</td>\n    </tr>\n    <tr>\n      <th>23</th>\n      <td>24</td>\n      <td>3.0</td>\n      <td>13.0</td>\n      <td>2022</td>\n      <td>2022/11/26</td>\n      <td>Group stage</td>\n      <td>阿根廷</td>\n      <td>墨西哥</td>\n      <td>False</td>\n    </tr>\n    <tr>\n      <th>24</th>\n      <td>25</td>\n      <td>24.0</td>\n      <td>31.0</td>\n      <td>2022</td>\n      <td>2022/11/27</td>\n      <td>Group stage</td>\n      <td>日本</td>\n      <td>哥斯达黎加</td>\n      <td>False</td>\n    </tr>\n    <tr>\n      <th>25</th>\n      <td>26</td>\n      <td>2.0</td>\n      <td>22.0</td>\n      <td>2022</td>\n      <td>2022/11/27</td>\n      <td>Group stage</td>\n      <td>比利时</td>\n      <td>摩洛哥</td>\n      <td>False</td>\n    </tr>\n    <tr>\n      <th>26</th>\n      <td>27</td>\n      <td>12.0</td>\n      <td>41.0</td>\n      <td>2022</td>\n      <td>2022/11/27</td>\n      <td>Group stage</td>\n      <td>克罗地亚</td>\n      <td>加拿大</td>\n      <td>False</td>\n    </tr>\n    <tr>\n      <th>27</th>\n      <td>28</td>\n      <td>7.0</td>\n      <td>11.0</td>\n      <td>2022</td>\n      <td>2022/11/27</td>\n      <td>Group stage</td>\n      <td>西班牙</td>\n      <td>德国</td>\n      <td>False</td>\n    </tr>\n    <tr>\n      <th>28</th>\n      <td>29</td>\n      <td>21.0</td>\n      <td>43.0</td>\n      <td>2022</td>\n      <td>2022/11/28</td>\n      <td>Group stage</td>\n      <td>塞尔维亚</td>\n      <td>喀麦隆</td>\n      <td>False</td>\n    </tr>\n    <tr>\n      <th>29</th>\n      <td>30</td>\n      <td>28.0</td>\n      <td>61.0</td>\n      <td>2022</td>\n      <td>2022/11/28</td>\n      <td>Group stage</td>\n      <td>韩国</td>\n      <td>加纳</td>\n      <td>False</td>\n    </tr>\n    <tr>\n      <th>30</th>\n      <td>31</td>\n      <td>1.0</td>\n      <td>15.0</td>\n      <td>2022</td>\n      <td>2022/11/28</td>\n      <td>Group stage</td>\n      <td>巴西</td>\n      <td>瑞士</td>\n      <td>False</td>\n    </tr>\n    <tr>\n      <th>31</th>\n      <td>32</td>\n      <td>9.0</td>\n      <td>14.0</td>\n      <td>2022</td>\n      <td>2022/11/28</td>\n      <td>Group stage</td>\n      <td>葡萄牙</td>\n      <td>乌拉圭</td>\n      <td>False</td>\n    </tr>\n    <tr>\n      <th>32</th>\n      <td>33</td>\n      <td>5.0</td>\n      <td>19.0</td>\n      <td>2022</td>\n      <td>2022/11/29</td>\n      <td>Group stage</td>\n      <td>英格兰</td>\n      <td>威尔士</td>\n      <td>False</td>\n    </tr>\n    <tr>\n      <th>33</th>\n      <td>34</td>\n      <td>20.0</td>\n      <td>16.0</td>\n      <td>2022</td>\n      <td>2022/11/29</td>\n      <td>Group stage</td>\n      <td>伊朗</td>\n      <td>美国</td>\n      <td>False</td>\n    </tr>\n    <tr>\n      <th>34</th>\n      <td>35</td>\n      <td>44.0</td>\n      <td>18.0</td>\n      <td>2022</td>\n      <td>2022/11/29</td>\n      <td>Group stage</td>\n      <td>厄瓜多尔</td>\n      <td>塞内加尔</td>\n      <td>False</td>\n    </tr>\n    <tr>\n      <th>35</th>\n      <td>36</td>\n      <td>50.0</td>\n      <td>8.0</td>\n      <td>2022</td>\n      <td>2022/11/29</td>\n      <td>Group stage</td>\n      <td>卡塔尔</td>\n      <td>荷兰</td>\n      <td>True</td>\n    </tr>\n    <tr>\n      <th>36</th>\n      <td>37</td>\n      <td>10.0</td>\n      <td>38.0</td>\n      <td>2022</td>\n      <td>2022/11/30</td>\n      <td>Group stage</td>\n      <td>丹麦</td>\n      <td>澳大利亚</td>\n      <td>False</td>\n    </tr>\n    <tr>\n      <th>37</th>\n      <td>38</td>\n      <td>30.0</td>\n      <td>4.0</td>\n      <td>2022</td>\n      <td>2022/11/30</td>\n      <td>Group stage</td>\n      <td>突尼斯</td>\n      <td>法国</td>\n      <td>False</td>\n    </tr>\n    <tr>\n      <th>38</th>\n      <td>39</td>\n      <td>26.0</td>\n      <td>3.0</td>\n      <td>2022</td>\n      <td>2022/11/30</td>\n      <td>Group stage</td>\n      <td>波兰</td>\n      <td>阿根廷</td>\n      <td>False</td>\n    </tr>\n    <tr>\n      <th>39</th>\n      <td>40</td>\n      <td>51.0</td>\n      <td>13.0</td>\n      <td>2022</td>\n      <td>2022/11/30</td>\n      <td>Group stage</td>\n      <td>沙特阿拉伯</td>\n      <td>墨西哥</td>\n      <td>False</td>\n    </tr>\n    <tr>\n      <th>40</th>\n      <td>41</td>\n      <td>12.0</td>\n      <td>2.0</td>\n      <td>2022</td>\n      <td>2022/12/1</td>\n      <td>Group stage</td>\n      <td>克罗地亚</td>\n      <td>比利时</td>\n      <td>False</td>\n    </tr>\n    <tr>\n      <th>41</th>\n      <td>42</td>\n      <td>41.0</td>\n      <td>22.0</td>\n      <td>2022</td>\n      <td>2022/12/1</td>\n      <td>Group stage</td>\n      <td>加拿大</td>\n      <td>摩洛哥</td>\n      <td>False</td>\n    </tr>\n    <tr>\n      <th>42</th>\n      <td>43</td>\n      <td>24.0</td>\n      <td>7.0</td>\n      <td>2022</td>\n      <td>2022/12/1</td>\n      <td>Group stage</td>\n      <td>日本</td>\n      <td>西班牙</td>\n      <td>False</td>\n    </tr>\n    <tr>\n      <th>43</th>\n      <td>44</td>\n      <td>31.0</td>\n      <td>11.0</td>\n      <td>2022</td>\n      <td>2022/12/1</td>\n      <td>Group stage</td>\n      <td>哥斯达黎加</td>\n      <td>德国</td>\n      <td>False</td>\n    </tr>\n    <tr>\n      <th>44</th>\n      <td>45</td>\n      <td>61.0</td>\n      <td>14.0</td>\n      <td>2022</td>\n      <td>2022/12/2</td>\n      <td>Group stage</td>\n      <td>加纳</td>\n      <td>乌拉圭</td>\n      <td>False</td>\n    </tr>\n    <tr>\n      <th>45</th>\n      <td>46</td>\n      <td>28.0</td>\n      <td>9.0</td>\n      <td>2022</td>\n      <td>2022/12/2</td>\n      <td>Group stage</td>\n      <td>韩国</td>\n      <td>葡萄牙</td>\n      <td>False</td>\n    </tr>\n    <tr>\n      <th>46</th>\n      <td>47</td>\n      <td>21.0</td>\n      <td>15.0</td>\n      <td>2022</td>\n      <td>2022/12/2</td>\n      <td>Group stage</td>\n      <td>塞尔维亚</td>\n      <td>瑞士</td>\n      <td>False</td>\n    </tr>\n    <tr>\n      <th>47</th>\n      <td>48</td>\n      <td>1.0</td>\n      <td>43.0</td>\n      <td>2022</td>\n      <td>2022/12/2</td>\n      <td>Group stage</td>\n      <td>巴西</td>\n      <td>喀麦隆</td>\n      <td>False</td>\n    </tr>\n  </tbody>\n</table>\n</div>"
     },
     "execution_count": 33,
     "metadata": {},
     "output_type": "execute_result"
    }
   ],
   "source": [
    "'''创建包含每个团队排名位置的新列'''\n",
    "# 给fixtures添加第1列，名字为home_team_rank，内容是与fixtures的home team对应的ranking的Position\n",
    "fixtures.insert(1, 'home_team_rank', fixtures['Home Team'].map(ranking.set_index('Team')['Position']))\n",
    "# 给fixtures添加第1列，名字为away_team_rank，内容是与fixtures的away team对应的ranking的Position\n",
    "fixtures.insert(2, 'away_team_rank', fixtures['Away Team'].map(ranking.set_index('Team')['Position']))\n",
    "\n",
    "'''我们只需要小组赛，所以要对数据集进行切片'''\n",
    "fixtures = fixtures.iloc[:48, :]            # 前48场为小组赛\n",
    "\n",
    "fixtures"
   ]
  },
  {
   "cell_type": "code",
   "execution_count": 34,
   "metadata": {},
   "outputs": [
    {
     "data": {
      "text/plain": "  home_team away_team winning_team\n0      厄瓜多尔       卡塔尔         None\n1        荷兰      塞内加尔         None\n2       英格兰        伊朗         None\n3        美国       威尔士         None\n4        法国      澳大利亚         None",
      "text/html": "<div>\n<style scoped>\n    .dataframe tbody tr th:only-of-type {\n        vertical-align: middle;\n    }\n\n    .dataframe tbody tr th {\n        vertical-align: top;\n    }\n\n    .dataframe thead th {\n        text-align: right;\n    }\n</style>\n<table border=\"1\" class=\"dataframe\">\n  <thead>\n    <tr style=\"text-align: right;\">\n      <th></th>\n      <th>home_team</th>\n      <th>away_team</th>\n      <th>winning_team</th>\n    </tr>\n  </thead>\n  <tbody>\n    <tr>\n      <th>0</th>\n      <td>厄瓜多尔</td>\n      <td>卡塔尔</td>\n      <td>None</td>\n    </tr>\n    <tr>\n      <th>1</th>\n      <td>荷兰</td>\n      <td>塞内加尔</td>\n      <td>None</td>\n    </tr>\n    <tr>\n      <th>2</th>\n      <td>英格兰</td>\n      <td>伊朗</td>\n      <td>None</td>\n    </tr>\n    <tr>\n      <th>3</th>\n      <td>美国</td>\n      <td>威尔士</td>\n      <td>None</td>\n    </tr>\n    <tr>\n      <th>4</th>\n      <td>法国</td>\n      <td>澳大利亚</td>\n      <td>None</td>\n    </tr>\n  </tbody>\n</table>\n</div>"
     },
     "execution_count": 34,
     "metadata": {},
     "output_type": "execute_result"
    }
   ],
   "source": [
    "'''循环以根据每个团队的排名位置将团队添加到新的预测数据集'''\n",
    "for index, row in fixtures.iterrows():\n",
    "    if row['home_team_rank'] < row['away_team_rank']:\n",
    "        pred_set.append({'home_team': row['Home Team'], 'away_team': row['Away Team'], 'winning_team': None})\n",
    "    else:\n",
    "        pred_set.append({'home_team': row['Away Team'], 'away_team': row['Home Team'], 'winning_team': None})\n",
    "        \n",
    "pred_set = pd.DataFrame(pred_set)\n",
    "backup_pred_set = pred_set\n",
    "\n",
    "pred_set.head()"
   ]
  },
  {
   "cell_type": "code",
   "execution_count": 35,
   "metadata": {},
   "outputs": [
    {
     "data": {
      "text/plain": "   winning_team  home_team_丹麦  home_team_乌拉圭  home_team_克罗地亚  home_team_厄瓜多尔  \\\n0          None             0              0               0               1   \n1          None             0              0               0               0   \n2          None             0              0               0               0   \n3          None             0              0               0               0   \n4          None             0              0               0               0   \n5          None             1              0               0               0   \n6          None             0              0               0               0   \n7          None             0              0               0               0   \n8          None             0              0               0               0   \n9          None             0              0               0               0   \n10         None             0              0               0               0   \n11         None             0              0               1               0   \n12         None             0              0               0               0   \n13         None             0              1               0               0   \n14         None             0              0               0               0   \n15         None             0              0               0               0   \n16         None             0              0               0               0   \n17         None             0              0               0               0   \n18         None             0              0               0               0   \n19         None             0              0               0               0   \n20         None             0              0               0               0   \n21         None             0              0               0               0   \n22         None             0              0               0               0   \n23         None             0              0               0               0   \n24         None             0              0               0               0   \n25         None             0              0               0               0   \n26         None             0              0               1               0   \n27         None             0              0               0               0   \n28         None             0              0               0               0   \n29         None             0              0               0               0   \n30         None             0              0               0               0   \n31         None             0              0               0               0   \n32         None             0              0               0               0   \n33         None             0              0               0               0   \n34         None             0              0               0               0   \n35         None             0              0               0               0   \n36         None             1              0               0               0   \n37         None             0              0               0               0   \n38         None             0              0               0               0   \n39         None             0              0               0               0   \n40         None             0              0               0               0   \n41         None             0              0               0               0   \n42         None             0              0               0               0   \n43         None             0              0               0               0   \n44         None             0              1               0               0   \n45         None             0              0               0               0   \n46         None             0              0               0               0   \n47         None             0              0               0               0   \n\n    home_team_塞内加尔  home_team_塞尔维亚  home_team_墨西哥  home_team_威尔士  \\\n0                0               0              0              0   \n1                0               0              0              0   \n2                0               0              0              0   \n3                0               0              0              0   \n4                0               0              0              0   \n5                0               0              0              0   \n6                0               0              1              0   \n7                0               0              0              0   \n8                0               0              0              0   \n9                0               0              0              0   \n10               0               0              0              0   \n11               0               0              0              0   \n12               0               0              0              0   \n13               0               0              0              0   \n14               0               0              0              0   \n15               0               0              0              0   \n16               0               0              0              1   \n17               1               0              0              0   \n18               0               0              0              0   \n19               0               0              0              0   \n20               0               0              0              0   \n21               0               0              0              0   \n22               0               0              0              0   \n23               0               0              0              0   \n24               0               0              0              0   \n25               0               0              0              0   \n26               0               0              0              0   \n27               0               0              0              0   \n28               0               1              0              0   \n29               0               0              0              0   \n30               0               0              0              0   \n31               0               0              0              0   \n32               0               0              0              0   \n33               0               0              0              0   \n34               1               0              0              0   \n35               0               0              0              0   \n36               0               0              0              0   \n37               0               0              0              0   \n38               0               0              0              0   \n39               0               0              1              0   \n40               0               0              0              0   \n41               0               0              0              0   \n42               0               0              0              0   \n43               0               0              0              0   \n44               0               0              0              0   \n45               0               0              0              0   \n46               0               0              0              0   \n47               0               0              0              0   \n\n    home_team_巴西  ...  away_team_德国  away_team_摩洛哥  away_team_日本  \\\n0              0  ...             0              0             0   \n1              0  ...             0              0             0   \n2              0  ...             0              0             0   \n3              0  ...             0              0             0   \n4              0  ...             0              0             0   \n5              0  ...             0              0             0   \n6              0  ...             0              0             0   \n7              0  ...             0              0             0   \n8              0  ...             0              0             0   \n9              0  ...             0              0             0   \n10             0  ...             0              0             1   \n11             0  ...             0              1             0   \n12             0  ...             0              0             0   \n13             0  ...             0              0             0   \n14             0  ...             0              0             0   \n15             1  ...             0              0             0   \n16             0  ...             0              0             0   \n17             0  ...             0              0             0   \n18             0  ...             0              0             0   \n19             0  ...             0              0             0   \n20             0  ...             0              0             0   \n21             0  ...             0              0             0   \n22             0  ...             0              0             0   \n23             0  ...             0              0             0   \n24             0  ...             0              0             0   \n25             0  ...             0              1             0   \n26             0  ...             0              0             0   \n27             0  ...             1              0             0   \n28             0  ...             0              0             0   \n29             0  ...             0              0             0   \n30             1  ...             0              0             0   \n31             0  ...             0              0             0   \n32             0  ...             0              0             0   \n33             0  ...             0              0             0   \n34             0  ...             0              0             0   \n35             0  ...             0              0             0   \n36             0  ...             0              0             0   \n37             0  ...             0              0             0   \n38             0  ...             0              0             0   \n39             0  ...             0              0             0   \n40             0  ...             0              0             0   \n41             0  ...             0              0             0   \n42             0  ...             0              0             1   \n43             0  ...             0              0             0   \n44             0  ...             0              0             0   \n45             0  ...             0              0             0   \n46             0  ...             0              0             0   \n47             1  ...             0              0             0   \n\n    away_team_沙特阿拉伯  away_team_波兰  away_team_澳大利亚  away_team_瑞士  \\\n0                 0             0               0             0   \n1                 0             0               0             0   \n2                 0             0               0             0   \n3                 0             0               0             0   \n4                 0             0               1             0   \n5                 0             0               0             0   \n6                 0             1               0             0   \n7                 1             0               0             0   \n8                 0             0               0             0   \n9                 0             0               0             0   \n10                0             0               0             0   \n11                0             0               0             0   \n12                0             0               0             0   \n13                0             0               0             0   \n14                0             0               0             0   \n15                0             0               0             0   \n16                0             0               0             0   \n17                0             0               0             0   \n18                0             0               0             0   \n19                0             0               0             0   \n20                0             0               1             0   \n21                1             0               0             0   \n22                0             0               0             0   \n23                0             0               0             0   \n24                0             0               0             0   \n25                0             0               0             0   \n26                0             0               0             0   \n27                0             0               0             0   \n28                0             0               0             0   \n29                0             0               0             0   \n30                0             0               0             1   \n31                0             0               0             0   \n32                0             0               0             0   \n33                0             0               0             0   \n34                0             0               0             0   \n35                0             0               0             0   \n36                0             0               1             0   \n37                0             0               0             0   \n38                0             1               0             0   \n39                1             0               0             0   \n40                0             0               0             0   \n41                0             0               0             0   \n42                0             0               0             0   \n43                0             0               0             0   \n44                0             0               0             0   \n45                0             0               0             0   \n46                0             0               0             0   \n47                0             0               0             0   \n\n    away_team_突尼斯  away_team_美国  away_team_韩国  \n0               0             0             0  \n1               0             0             0  \n2               0             0             0  \n3               0             0             0  \n4               0             0             0  \n5               1             0             0  \n6               0             0             0  \n7               0             0             0  \n8               0             0             0  \n9               0             0             0  \n10              0             0             0  \n11              0             0             0  \n12              0             0             0  \n13              0             0             1  \n14              0             0             0  \n15              0             0             0  \n16              0             0             0  \n17              0             0             0  \n18              0             0             0  \n19              0             1             0  \n20              0             0             0  \n21              0             0             0  \n22              0             0             0  \n23              0             0             0  \n24              0             0             0  \n25              0             0             0  \n26              0             0             0  \n27              0             0             0  \n28              0             0             0  \n29              0             0             0  \n30              0             0             0  \n31              0             0             0  \n32              0             0             0  \n33              0             0             0  \n34              0             0             0  \n35              0             0             0  \n36              0             0             0  \n37              1             0             0  \n38              0             0             0  \n39              0             0             0  \n40              0             0             0  \n41              0             0             0  \n42              0             0             0  \n43              0             0             0  \n44              0             0             0  \n45              0             0             1  \n46              0             0             0  \n47              0             0             0  \n\n[48 rows x 49 columns]",
      "text/html": "<div>\n<style scoped>\n    .dataframe tbody tr th:only-of-type {\n        vertical-align: middle;\n    }\n\n    .dataframe tbody tr th {\n        vertical-align: top;\n    }\n\n    .dataframe thead th {\n        text-align: right;\n    }\n</style>\n<table border=\"1\" class=\"dataframe\">\n  <thead>\n    <tr style=\"text-align: right;\">\n      <th></th>\n      <th>winning_team</th>\n      <th>home_team_丹麦</th>\n      <th>home_team_乌拉圭</th>\n      <th>home_team_克罗地亚</th>\n      <th>home_team_厄瓜多尔</th>\n      <th>home_team_塞内加尔</th>\n      <th>home_team_塞尔维亚</th>\n      <th>home_team_墨西哥</th>\n      <th>home_team_威尔士</th>\n      <th>home_team_巴西</th>\n      <th>...</th>\n      <th>away_team_德国</th>\n      <th>away_team_摩洛哥</th>\n      <th>away_team_日本</th>\n      <th>away_team_沙特阿拉伯</th>\n      <th>away_team_波兰</th>\n      <th>away_team_澳大利亚</th>\n      <th>away_team_瑞士</th>\n      <th>away_team_突尼斯</th>\n      <th>away_team_美国</th>\n      <th>away_team_韩国</th>\n    </tr>\n  </thead>\n  <tbody>\n    <tr>\n      <th>0</th>\n      <td>None</td>\n      <td>0</td>\n      <td>0</td>\n      <td>0</td>\n      <td>1</td>\n      <td>0</td>\n      <td>0</td>\n      <td>0</td>\n      <td>0</td>\n      <td>0</td>\n      <td>...</td>\n      <td>0</td>\n      <td>0</td>\n      <td>0</td>\n      <td>0</td>\n      <td>0</td>\n      <td>0</td>\n      <td>0</td>\n      <td>0</td>\n      <td>0</td>\n      <td>0</td>\n    </tr>\n    <tr>\n      <th>1</th>\n      <td>None</td>\n      <td>0</td>\n      <td>0</td>\n      <td>0</td>\n      <td>0</td>\n      <td>0</td>\n      <td>0</td>\n      <td>0</td>\n      <td>0</td>\n      <td>0</td>\n      <td>...</td>\n      <td>0</td>\n      <td>0</td>\n      <td>0</td>\n      <td>0</td>\n      <td>0</td>\n      <td>0</td>\n      <td>0</td>\n      <td>0</td>\n      <td>0</td>\n      <td>0</td>\n    </tr>\n    <tr>\n      <th>2</th>\n      <td>None</td>\n      <td>0</td>\n      <td>0</td>\n      <td>0</td>\n      <td>0</td>\n      <td>0</td>\n      <td>0</td>\n      <td>0</td>\n      <td>0</td>\n      <td>0</td>\n      <td>...</td>\n      <td>0</td>\n      <td>0</td>\n      <td>0</td>\n      <td>0</td>\n      <td>0</td>\n      <td>0</td>\n      <td>0</td>\n      <td>0</td>\n      <td>0</td>\n      <td>0</td>\n    </tr>\n    <tr>\n      <th>3</th>\n      <td>None</td>\n      <td>0</td>\n      <td>0</td>\n      <td>0</td>\n      <td>0</td>\n      <td>0</td>\n      <td>0</td>\n      <td>0</td>\n      <td>0</td>\n      <td>0</td>\n      <td>...</td>\n      <td>0</td>\n      <td>0</td>\n      <td>0</td>\n      <td>0</td>\n      <td>0</td>\n      <td>0</td>\n      <td>0</td>\n      <td>0</td>\n      <td>0</td>\n      <td>0</td>\n    </tr>\n    <tr>\n      <th>4</th>\n      <td>None</td>\n      <td>0</td>\n      <td>0</td>\n      <td>0</td>\n      <td>0</td>\n      <td>0</td>\n      <td>0</td>\n      <td>0</td>\n      <td>0</td>\n      <td>0</td>\n      <td>...</td>\n      <td>0</td>\n      <td>0</td>\n      <td>0</td>\n      <td>0</td>\n      <td>0</td>\n      <td>1</td>\n      <td>0</td>\n      <td>0</td>\n      <td>0</td>\n      <td>0</td>\n    </tr>\n    <tr>\n      <th>5</th>\n      <td>None</td>\n      <td>1</td>\n      <td>0</td>\n      <td>0</td>\n      <td>0</td>\n      <td>0</td>\n      <td>0</td>\n      <td>0</td>\n      <td>0</td>\n      <td>0</td>\n      <td>...</td>\n      <td>0</td>\n      <td>0</td>\n      <td>0</td>\n      <td>0</td>\n      <td>0</td>\n      <td>0</td>\n      <td>0</td>\n      <td>1</td>\n      <td>0</td>\n      <td>0</td>\n    </tr>\n    <tr>\n      <th>6</th>\n      <td>None</td>\n      <td>0</td>\n      <td>0</td>\n      <td>0</td>\n      <td>0</td>\n      <td>0</td>\n      <td>0</td>\n      <td>1</td>\n      <td>0</td>\n      <td>0</td>\n      <td>...</td>\n      <td>0</td>\n      <td>0</td>\n      <td>0</td>\n      <td>0</td>\n      <td>1</td>\n      <td>0</td>\n      <td>0</td>\n      <td>0</td>\n      <td>0</td>\n      <td>0</td>\n    </tr>\n    <tr>\n      <th>7</th>\n      <td>None</td>\n      <td>0</td>\n      <td>0</td>\n      <td>0</td>\n      <td>0</td>\n      <td>0</td>\n      <td>0</td>\n      <td>0</td>\n      <td>0</td>\n      <td>0</td>\n      <td>...</td>\n      <td>0</td>\n      <td>0</td>\n      <td>0</td>\n      <td>1</td>\n      <td>0</td>\n      <td>0</td>\n      <td>0</td>\n      <td>0</td>\n      <td>0</td>\n      <td>0</td>\n    </tr>\n    <tr>\n      <th>8</th>\n      <td>None</td>\n      <td>0</td>\n      <td>0</td>\n      <td>0</td>\n      <td>0</td>\n      <td>0</td>\n      <td>0</td>\n      <td>0</td>\n      <td>0</td>\n      <td>0</td>\n      <td>...</td>\n      <td>0</td>\n      <td>0</td>\n      <td>0</td>\n      <td>0</td>\n      <td>0</td>\n      <td>0</td>\n      <td>0</td>\n      <td>0</td>\n      <td>0</td>\n      <td>0</td>\n    </tr>\n    <tr>\n      <th>9</th>\n      <td>None</td>\n      <td>0</td>\n      <td>0</td>\n      <td>0</td>\n      <td>0</td>\n      <td>0</td>\n      <td>0</td>\n      <td>0</td>\n      <td>0</td>\n      <td>0</td>\n      <td>...</td>\n      <td>0</td>\n      <td>0</td>\n      <td>0</td>\n      <td>0</td>\n      <td>0</td>\n      <td>0</td>\n      <td>0</td>\n      <td>0</td>\n      <td>0</td>\n      <td>0</td>\n    </tr>\n    <tr>\n      <th>10</th>\n      <td>None</td>\n      <td>0</td>\n      <td>0</td>\n      <td>0</td>\n      <td>0</td>\n      <td>0</td>\n      <td>0</td>\n      <td>0</td>\n      <td>0</td>\n      <td>0</td>\n      <td>...</td>\n      <td>0</td>\n      <td>0</td>\n      <td>1</td>\n      <td>0</td>\n      <td>0</td>\n      <td>0</td>\n      <td>0</td>\n      <td>0</td>\n      <td>0</td>\n      <td>0</td>\n    </tr>\n    <tr>\n      <th>11</th>\n      <td>None</td>\n      <td>0</td>\n      <td>0</td>\n      <td>1</td>\n      <td>0</td>\n      <td>0</td>\n      <td>0</td>\n      <td>0</td>\n      <td>0</td>\n      <td>0</td>\n      <td>...</td>\n      <td>0</td>\n      <td>1</td>\n      <td>0</td>\n      <td>0</td>\n      <td>0</td>\n      <td>0</td>\n      <td>0</td>\n      <td>0</td>\n      <td>0</td>\n      <td>0</td>\n    </tr>\n    <tr>\n      <th>12</th>\n      <td>None</td>\n      <td>0</td>\n      <td>0</td>\n      <td>0</td>\n      <td>0</td>\n      <td>0</td>\n      <td>0</td>\n      <td>0</td>\n      <td>0</td>\n      <td>0</td>\n      <td>...</td>\n      <td>0</td>\n      <td>0</td>\n      <td>0</td>\n      <td>0</td>\n      <td>0</td>\n      <td>0</td>\n      <td>0</td>\n      <td>0</td>\n      <td>0</td>\n      <td>0</td>\n    </tr>\n    <tr>\n      <th>13</th>\n      <td>None</td>\n      <td>0</td>\n      <td>1</td>\n      <td>0</td>\n      <td>0</td>\n      <td>0</td>\n      <td>0</td>\n      <td>0</td>\n      <td>0</td>\n      <td>0</td>\n      <td>...</td>\n      <td>0</td>\n      <td>0</td>\n      <td>0</td>\n      <td>0</td>\n      <td>0</td>\n      <td>0</td>\n      <td>0</td>\n      <td>0</td>\n      <td>0</td>\n      <td>1</td>\n    </tr>\n    <tr>\n      <th>14</th>\n      <td>None</td>\n      <td>0</td>\n      <td>0</td>\n      <td>0</td>\n      <td>0</td>\n      <td>0</td>\n      <td>0</td>\n      <td>0</td>\n      <td>0</td>\n      <td>0</td>\n      <td>...</td>\n      <td>0</td>\n      <td>0</td>\n      <td>0</td>\n      <td>0</td>\n      <td>0</td>\n      <td>0</td>\n      <td>0</td>\n      <td>0</td>\n      <td>0</td>\n      <td>0</td>\n    </tr>\n    <tr>\n      <th>15</th>\n      <td>None</td>\n      <td>0</td>\n      <td>0</td>\n      <td>0</td>\n      <td>0</td>\n      <td>0</td>\n      <td>0</td>\n      <td>0</td>\n      <td>0</td>\n      <td>1</td>\n      <td>...</td>\n      <td>0</td>\n      <td>0</td>\n      <td>0</td>\n      <td>0</td>\n      <td>0</td>\n      <td>0</td>\n      <td>0</td>\n      <td>0</td>\n      <td>0</td>\n      <td>0</td>\n    </tr>\n    <tr>\n      <th>16</th>\n      <td>None</td>\n      <td>0</td>\n      <td>0</td>\n      <td>0</td>\n      <td>0</td>\n      <td>0</td>\n      <td>0</td>\n      <td>0</td>\n      <td>1</td>\n      <td>0</td>\n      <td>...</td>\n      <td>0</td>\n      <td>0</td>\n      <td>0</td>\n      <td>0</td>\n      <td>0</td>\n      <td>0</td>\n      <td>0</td>\n      <td>0</td>\n      <td>0</td>\n      <td>0</td>\n    </tr>\n    <tr>\n      <th>17</th>\n      <td>None</td>\n      <td>0</td>\n      <td>0</td>\n      <td>0</td>\n      <td>0</td>\n      <td>1</td>\n      <td>0</td>\n      <td>0</td>\n      <td>0</td>\n      <td>0</td>\n      <td>...</td>\n      <td>0</td>\n      <td>0</td>\n      <td>0</td>\n      <td>0</td>\n      <td>0</td>\n      <td>0</td>\n      <td>0</td>\n      <td>0</td>\n      <td>0</td>\n      <td>0</td>\n    </tr>\n    <tr>\n      <th>18</th>\n      <td>None</td>\n      <td>0</td>\n      <td>0</td>\n      <td>0</td>\n      <td>0</td>\n      <td>0</td>\n      <td>0</td>\n      <td>0</td>\n      <td>0</td>\n      <td>0</td>\n      <td>...</td>\n      <td>0</td>\n      <td>0</td>\n      <td>0</td>\n      <td>0</td>\n      <td>0</td>\n      <td>0</td>\n      <td>0</td>\n      <td>0</td>\n      <td>0</td>\n      <td>0</td>\n    </tr>\n    <tr>\n      <th>19</th>\n      <td>None</td>\n      <td>0</td>\n      <td>0</td>\n      <td>0</td>\n      <td>0</td>\n      <td>0</td>\n      <td>0</td>\n      <td>0</td>\n      <td>0</td>\n      <td>0</td>\n      <td>...</td>\n      <td>0</td>\n      <td>0</td>\n      <td>0</td>\n      <td>0</td>\n      <td>0</td>\n      <td>0</td>\n      <td>0</td>\n      <td>0</td>\n      <td>1</td>\n      <td>0</td>\n    </tr>\n    <tr>\n      <th>20</th>\n      <td>None</td>\n      <td>0</td>\n      <td>0</td>\n      <td>0</td>\n      <td>0</td>\n      <td>0</td>\n      <td>0</td>\n      <td>0</td>\n      <td>0</td>\n      <td>0</td>\n      <td>...</td>\n      <td>0</td>\n      <td>0</td>\n      <td>0</td>\n      <td>0</td>\n      <td>0</td>\n      <td>1</td>\n      <td>0</td>\n      <td>0</td>\n      <td>0</td>\n      <td>0</td>\n    </tr>\n    <tr>\n      <th>21</th>\n      <td>None</td>\n      <td>0</td>\n      <td>0</td>\n      <td>0</td>\n      <td>0</td>\n      <td>0</td>\n      <td>0</td>\n      <td>0</td>\n      <td>0</td>\n      <td>0</td>\n      <td>...</td>\n      <td>0</td>\n      <td>0</td>\n      <td>0</td>\n      <td>1</td>\n      <td>0</td>\n      <td>0</td>\n      <td>0</td>\n      <td>0</td>\n      <td>0</td>\n      <td>0</td>\n    </tr>\n    <tr>\n      <th>22</th>\n      <td>None</td>\n      <td>0</td>\n      <td>0</td>\n      <td>0</td>\n      <td>0</td>\n      <td>0</td>\n      <td>0</td>\n      <td>0</td>\n      <td>0</td>\n      <td>0</td>\n      <td>...</td>\n      <td>0</td>\n      <td>0</td>\n      <td>0</td>\n      <td>0</td>\n      <td>0</td>\n      <td>0</td>\n      <td>0</td>\n      <td>0</td>\n      <td>0</td>\n      <td>0</td>\n    </tr>\n    <tr>\n      <th>23</th>\n      <td>None</td>\n      <td>0</td>\n      <td>0</td>\n      <td>0</td>\n      <td>0</td>\n      <td>0</td>\n      <td>0</td>\n      <td>0</td>\n      <td>0</td>\n      <td>0</td>\n      <td>...</td>\n      <td>0</td>\n      <td>0</td>\n      <td>0</td>\n      <td>0</td>\n      <td>0</td>\n      <td>0</td>\n      <td>0</td>\n      <td>0</td>\n      <td>0</td>\n      <td>0</td>\n    </tr>\n    <tr>\n      <th>24</th>\n      <td>None</td>\n      <td>0</td>\n      <td>0</td>\n      <td>0</td>\n      <td>0</td>\n      <td>0</td>\n      <td>0</td>\n      <td>0</td>\n      <td>0</td>\n      <td>0</td>\n      <td>...</td>\n      <td>0</td>\n      <td>0</td>\n      <td>0</td>\n      <td>0</td>\n      <td>0</td>\n      <td>0</td>\n      <td>0</td>\n      <td>0</td>\n      <td>0</td>\n      <td>0</td>\n    </tr>\n    <tr>\n      <th>25</th>\n      <td>None</td>\n      <td>0</td>\n      <td>0</td>\n      <td>0</td>\n      <td>0</td>\n      <td>0</td>\n      <td>0</td>\n      <td>0</td>\n      <td>0</td>\n      <td>0</td>\n      <td>...</td>\n      <td>0</td>\n      <td>1</td>\n      <td>0</td>\n      <td>0</td>\n      <td>0</td>\n      <td>0</td>\n      <td>0</td>\n      <td>0</td>\n      <td>0</td>\n      <td>0</td>\n    </tr>\n    <tr>\n      <th>26</th>\n      <td>None</td>\n      <td>0</td>\n      <td>0</td>\n      <td>1</td>\n      <td>0</td>\n      <td>0</td>\n      <td>0</td>\n      <td>0</td>\n      <td>0</td>\n      <td>0</td>\n      <td>...</td>\n      <td>0</td>\n      <td>0</td>\n      <td>0</td>\n      <td>0</td>\n      <td>0</td>\n      <td>0</td>\n      <td>0</td>\n      <td>0</td>\n      <td>0</td>\n      <td>0</td>\n    </tr>\n    <tr>\n      <th>27</th>\n      <td>None</td>\n      <td>0</td>\n      <td>0</td>\n      <td>0</td>\n      <td>0</td>\n      <td>0</td>\n      <td>0</td>\n      <td>0</td>\n      <td>0</td>\n      <td>0</td>\n      <td>...</td>\n      <td>1</td>\n      <td>0</td>\n      <td>0</td>\n      <td>0</td>\n      <td>0</td>\n      <td>0</td>\n      <td>0</td>\n      <td>0</td>\n      <td>0</td>\n      <td>0</td>\n    </tr>\n    <tr>\n      <th>28</th>\n      <td>None</td>\n      <td>0</td>\n      <td>0</td>\n      <td>0</td>\n      <td>0</td>\n      <td>0</td>\n      <td>1</td>\n      <td>0</td>\n      <td>0</td>\n      <td>0</td>\n      <td>...</td>\n      <td>0</td>\n      <td>0</td>\n      <td>0</td>\n      <td>0</td>\n      <td>0</td>\n      <td>0</td>\n      <td>0</td>\n      <td>0</td>\n      <td>0</td>\n      <td>0</td>\n    </tr>\n    <tr>\n      <th>29</th>\n      <td>None</td>\n      <td>0</td>\n      <td>0</td>\n      <td>0</td>\n      <td>0</td>\n      <td>0</td>\n      <td>0</td>\n      <td>0</td>\n      <td>0</td>\n      <td>0</td>\n      <td>...</td>\n      <td>0</td>\n      <td>0</td>\n      <td>0</td>\n      <td>0</td>\n      <td>0</td>\n      <td>0</td>\n      <td>0</td>\n      <td>0</td>\n      <td>0</td>\n      <td>0</td>\n    </tr>\n    <tr>\n      <th>30</th>\n      <td>None</td>\n      <td>0</td>\n      <td>0</td>\n      <td>0</td>\n      <td>0</td>\n      <td>0</td>\n      <td>0</td>\n      <td>0</td>\n      <td>0</td>\n      <td>1</td>\n      <td>...</td>\n      <td>0</td>\n      <td>0</td>\n      <td>0</td>\n      <td>0</td>\n      <td>0</td>\n      <td>0</td>\n      <td>1</td>\n      <td>0</td>\n      <td>0</td>\n      <td>0</td>\n    </tr>\n    <tr>\n      <th>31</th>\n      <td>None</td>\n      <td>0</td>\n      <td>0</td>\n      <td>0</td>\n      <td>0</td>\n      <td>0</td>\n      <td>0</td>\n      <td>0</td>\n      <td>0</td>\n      <td>0</td>\n      <td>...</td>\n      <td>0</td>\n      <td>0</td>\n      <td>0</td>\n      <td>0</td>\n      <td>0</td>\n      <td>0</td>\n      <td>0</td>\n      <td>0</td>\n      <td>0</td>\n      <td>0</td>\n    </tr>\n    <tr>\n      <th>32</th>\n      <td>None</td>\n      <td>0</td>\n      <td>0</td>\n      <td>0</td>\n      <td>0</td>\n      <td>0</td>\n      <td>0</td>\n      <td>0</td>\n      <td>0</td>\n      <td>0</td>\n      <td>...</td>\n      <td>0</td>\n      <td>0</td>\n      <td>0</td>\n      <td>0</td>\n      <td>0</td>\n      <td>0</td>\n      <td>0</td>\n      <td>0</td>\n      <td>0</td>\n      <td>0</td>\n    </tr>\n    <tr>\n      <th>33</th>\n      <td>None</td>\n      <td>0</td>\n      <td>0</td>\n      <td>0</td>\n      <td>0</td>\n      <td>0</td>\n      <td>0</td>\n      <td>0</td>\n      <td>0</td>\n      <td>0</td>\n      <td>...</td>\n      <td>0</td>\n      <td>0</td>\n      <td>0</td>\n      <td>0</td>\n      <td>0</td>\n      <td>0</td>\n      <td>0</td>\n      <td>0</td>\n      <td>0</td>\n      <td>0</td>\n    </tr>\n    <tr>\n      <th>34</th>\n      <td>None</td>\n      <td>0</td>\n      <td>0</td>\n      <td>0</td>\n      <td>0</td>\n      <td>1</td>\n      <td>0</td>\n      <td>0</td>\n      <td>0</td>\n      <td>0</td>\n      <td>...</td>\n      <td>0</td>\n      <td>0</td>\n      <td>0</td>\n      <td>0</td>\n      <td>0</td>\n      <td>0</td>\n      <td>0</td>\n      <td>0</td>\n      <td>0</td>\n      <td>0</td>\n    </tr>\n    <tr>\n      <th>35</th>\n      <td>None</td>\n      <td>0</td>\n      <td>0</td>\n      <td>0</td>\n      <td>0</td>\n      <td>0</td>\n      <td>0</td>\n      <td>0</td>\n      <td>0</td>\n      <td>0</td>\n      <td>...</td>\n      <td>0</td>\n      <td>0</td>\n      <td>0</td>\n      <td>0</td>\n      <td>0</td>\n      <td>0</td>\n      <td>0</td>\n      <td>0</td>\n      <td>0</td>\n      <td>0</td>\n    </tr>\n    <tr>\n      <th>36</th>\n      <td>None</td>\n      <td>1</td>\n      <td>0</td>\n      <td>0</td>\n      <td>0</td>\n      <td>0</td>\n      <td>0</td>\n      <td>0</td>\n      <td>0</td>\n      <td>0</td>\n      <td>...</td>\n      <td>0</td>\n      <td>0</td>\n      <td>0</td>\n      <td>0</td>\n      <td>0</td>\n      <td>1</td>\n      <td>0</td>\n      <td>0</td>\n      <td>0</td>\n      <td>0</td>\n    </tr>\n    <tr>\n      <th>37</th>\n      <td>None</td>\n      <td>0</td>\n      <td>0</td>\n      <td>0</td>\n      <td>0</td>\n      <td>0</td>\n      <td>0</td>\n      <td>0</td>\n      <td>0</td>\n      <td>0</td>\n      <td>...</td>\n      <td>0</td>\n      <td>0</td>\n      <td>0</td>\n      <td>0</td>\n      <td>0</td>\n      <td>0</td>\n      <td>0</td>\n      <td>1</td>\n      <td>0</td>\n      <td>0</td>\n    </tr>\n    <tr>\n      <th>38</th>\n      <td>None</td>\n      <td>0</td>\n      <td>0</td>\n      <td>0</td>\n      <td>0</td>\n      <td>0</td>\n      <td>0</td>\n      <td>0</td>\n      <td>0</td>\n      <td>0</td>\n      <td>...</td>\n      <td>0</td>\n      <td>0</td>\n      <td>0</td>\n      <td>0</td>\n      <td>1</td>\n      <td>0</td>\n      <td>0</td>\n      <td>0</td>\n      <td>0</td>\n      <td>0</td>\n    </tr>\n    <tr>\n      <th>39</th>\n      <td>None</td>\n      <td>0</td>\n      <td>0</td>\n      <td>0</td>\n      <td>0</td>\n      <td>0</td>\n      <td>0</td>\n      <td>1</td>\n      <td>0</td>\n      <td>0</td>\n      <td>...</td>\n      <td>0</td>\n      <td>0</td>\n      <td>0</td>\n      <td>1</td>\n      <td>0</td>\n      <td>0</td>\n      <td>0</td>\n      <td>0</td>\n      <td>0</td>\n      <td>0</td>\n    </tr>\n    <tr>\n      <th>40</th>\n      <td>None</td>\n      <td>0</td>\n      <td>0</td>\n      <td>0</td>\n      <td>0</td>\n      <td>0</td>\n      <td>0</td>\n      <td>0</td>\n      <td>0</td>\n      <td>0</td>\n      <td>...</td>\n      <td>0</td>\n      <td>0</td>\n      <td>0</td>\n      <td>0</td>\n      <td>0</td>\n      <td>0</td>\n      <td>0</td>\n      <td>0</td>\n      <td>0</td>\n      <td>0</td>\n    </tr>\n    <tr>\n      <th>41</th>\n      <td>None</td>\n      <td>0</td>\n      <td>0</td>\n      <td>0</td>\n      <td>0</td>\n      <td>0</td>\n      <td>0</td>\n      <td>0</td>\n      <td>0</td>\n      <td>0</td>\n      <td>...</td>\n      <td>0</td>\n      <td>0</td>\n      <td>0</td>\n      <td>0</td>\n      <td>0</td>\n      <td>0</td>\n      <td>0</td>\n      <td>0</td>\n      <td>0</td>\n      <td>0</td>\n    </tr>\n    <tr>\n      <th>42</th>\n      <td>None</td>\n      <td>0</td>\n      <td>0</td>\n      <td>0</td>\n      <td>0</td>\n      <td>0</td>\n      <td>0</td>\n      <td>0</td>\n      <td>0</td>\n      <td>0</td>\n      <td>...</td>\n      <td>0</td>\n      <td>0</td>\n      <td>1</td>\n      <td>0</td>\n      <td>0</td>\n      <td>0</td>\n      <td>0</td>\n      <td>0</td>\n      <td>0</td>\n      <td>0</td>\n    </tr>\n    <tr>\n      <th>43</th>\n      <td>None</td>\n      <td>0</td>\n      <td>0</td>\n      <td>0</td>\n      <td>0</td>\n      <td>0</td>\n      <td>0</td>\n      <td>0</td>\n      <td>0</td>\n      <td>0</td>\n      <td>...</td>\n      <td>0</td>\n      <td>0</td>\n      <td>0</td>\n      <td>0</td>\n      <td>0</td>\n      <td>0</td>\n      <td>0</td>\n      <td>0</td>\n      <td>0</td>\n      <td>0</td>\n    </tr>\n    <tr>\n      <th>44</th>\n      <td>None</td>\n      <td>0</td>\n      <td>1</td>\n      <td>0</td>\n      <td>0</td>\n      <td>0</td>\n      <td>0</td>\n      <td>0</td>\n      <td>0</td>\n      <td>0</td>\n      <td>...</td>\n      <td>0</td>\n      <td>0</td>\n      <td>0</td>\n      <td>0</td>\n      <td>0</td>\n      <td>0</td>\n      <td>0</td>\n      <td>0</td>\n      <td>0</td>\n      <td>0</td>\n    </tr>\n    <tr>\n      <th>45</th>\n      <td>None</td>\n      <td>0</td>\n      <td>0</td>\n      <td>0</td>\n      <td>0</td>\n      <td>0</td>\n      <td>0</td>\n      <td>0</td>\n      <td>0</td>\n      <td>0</td>\n      <td>...</td>\n      <td>0</td>\n      <td>0</td>\n      <td>0</td>\n      <td>0</td>\n      <td>0</td>\n      <td>0</td>\n      <td>0</td>\n      <td>0</td>\n      <td>0</td>\n      <td>1</td>\n    </tr>\n    <tr>\n      <th>46</th>\n      <td>None</td>\n      <td>0</td>\n      <td>0</td>\n      <td>0</td>\n      <td>0</td>\n      <td>0</td>\n      <td>0</td>\n      <td>0</td>\n      <td>0</td>\n      <td>0</td>\n      <td>...</td>\n      <td>0</td>\n      <td>0</td>\n      <td>0</td>\n      <td>0</td>\n      <td>0</td>\n      <td>0</td>\n      <td>0</td>\n      <td>0</td>\n      <td>0</td>\n      <td>0</td>\n    </tr>\n    <tr>\n      <th>47</th>\n      <td>None</td>\n      <td>0</td>\n      <td>0</td>\n      <td>0</td>\n      <td>0</td>\n      <td>0</td>\n      <td>0</td>\n      <td>0</td>\n      <td>0</td>\n      <td>1</td>\n      <td>...</td>\n      <td>0</td>\n      <td>0</td>\n      <td>0</td>\n      <td>0</td>\n      <td>0</td>\n      <td>0</td>\n      <td>0</td>\n      <td>0</td>\n      <td>0</td>\n      <td>0</td>\n    </tr>\n  </tbody>\n</table>\n<p>48 rows × 49 columns</p>\n</div>"
     },
     "execution_count": 35,
     "metadata": {},
     "output_type": "execute_result"
    }
   ],
   "source": [
    "'''获取虚拟变量并删除winning_team列'''\n",
    "pred_set = pd.get_dummies(pred_set, prefix=['home_team', 'away_team'], columns=['home_team', 'away_team'])\n",
    "\n",
    "pred_set"
   ]
  },
  {
   "cell_type": "code",
   "execution_count": 36,
   "outputs": [
    {
     "data": {
      "text/plain": "   home_team_Afghanistan  home_team_Albania  home_team_Algeria  \\\n0                      0                  0                  0   \n1                      0                  0                  0   \n2                      0                  0                  0   \n3                      0                  0                  0   \n4                      0                  0                  0   \n\n   home_team_Andorra  home_team_Angola  home_team_Antigua and Barbuda  \\\n0                  0                 0                              0   \n1                  0                 0                              0   \n2                  0                 0                              0   \n3                  0                 0                              0   \n4                  0                 0                              0   \n\n   home_team_Armenia  home_team_Austria  home_team_Azerbaijan  \\\n0                  0                  0                     0   \n1                  0                  0                     0   \n2                  0                  0                     0   \n3                  0                  0                     0   \n4                  0                  0                     0   \n\n   home_team_Bahrain  ...  away_team_瑞典  away_team_瑞士  away_team_突尼斯  \\\n0                  0  ...             0             0              0   \n1                  0  ...             0             0              0   \n2                  0  ...             0             0              0   \n3                  0  ...             0             0              0   \n4                  0  ...             0             0              0   \n\n   away_team_美国  away_team_英格兰  away_team_荷兰  away_team_葡萄牙  away_team_西班牙  \\\n0             0              0             0              0              0   \n1             0              0             0              0              0   \n2             0              0             0              0              0   \n3             0              0             0              0              0   \n4             0              0             0              0              0   \n\n   away_team_阿根廷  away_team_韩国  \n0              0             0  \n1              0             0  \n2              0             0  \n3              0             0  \n4              0             0  \n\n[5 rows x 415 columns]",
      "text/html": "<div>\n<style scoped>\n    .dataframe tbody tr th:only-of-type {\n        vertical-align: middle;\n    }\n\n    .dataframe tbody tr th {\n        vertical-align: top;\n    }\n\n    .dataframe thead th {\n        text-align: right;\n    }\n</style>\n<table border=\"1\" class=\"dataframe\">\n  <thead>\n    <tr style=\"text-align: right;\">\n      <th></th>\n      <th>home_team_Afghanistan</th>\n      <th>home_team_Albania</th>\n      <th>home_team_Algeria</th>\n      <th>home_team_Andorra</th>\n      <th>home_team_Angola</th>\n      <th>home_team_Antigua and Barbuda</th>\n      <th>home_team_Armenia</th>\n      <th>home_team_Austria</th>\n      <th>home_team_Azerbaijan</th>\n      <th>home_team_Bahrain</th>\n      <th>...</th>\n      <th>away_team_瑞典</th>\n      <th>away_team_瑞士</th>\n      <th>away_team_突尼斯</th>\n      <th>away_team_美国</th>\n      <th>away_team_英格兰</th>\n      <th>away_team_荷兰</th>\n      <th>away_team_葡萄牙</th>\n      <th>away_team_西班牙</th>\n      <th>away_team_阿根廷</th>\n      <th>away_team_韩国</th>\n    </tr>\n  </thead>\n  <tbody>\n    <tr>\n      <th>0</th>\n      <td>0</td>\n      <td>0</td>\n      <td>0</td>\n      <td>0</td>\n      <td>0</td>\n      <td>0</td>\n      <td>0</td>\n      <td>0</td>\n      <td>0</td>\n      <td>0</td>\n      <td>...</td>\n      <td>0</td>\n      <td>0</td>\n      <td>0</td>\n      <td>0</td>\n      <td>0</td>\n      <td>0</td>\n      <td>0</td>\n      <td>0</td>\n      <td>0</td>\n      <td>0</td>\n    </tr>\n    <tr>\n      <th>1</th>\n      <td>0</td>\n      <td>0</td>\n      <td>0</td>\n      <td>0</td>\n      <td>0</td>\n      <td>0</td>\n      <td>0</td>\n      <td>0</td>\n      <td>0</td>\n      <td>0</td>\n      <td>...</td>\n      <td>0</td>\n      <td>0</td>\n      <td>0</td>\n      <td>0</td>\n      <td>0</td>\n      <td>0</td>\n      <td>0</td>\n      <td>0</td>\n      <td>0</td>\n      <td>0</td>\n    </tr>\n    <tr>\n      <th>2</th>\n      <td>0</td>\n      <td>0</td>\n      <td>0</td>\n      <td>0</td>\n      <td>0</td>\n      <td>0</td>\n      <td>0</td>\n      <td>0</td>\n      <td>0</td>\n      <td>0</td>\n      <td>...</td>\n      <td>0</td>\n      <td>0</td>\n      <td>0</td>\n      <td>0</td>\n      <td>0</td>\n      <td>0</td>\n      <td>0</td>\n      <td>0</td>\n      <td>0</td>\n      <td>0</td>\n    </tr>\n    <tr>\n      <th>3</th>\n      <td>0</td>\n      <td>0</td>\n      <td>0</td>\n      <td>0</td>\n      <td>0</td>\n      <td>0</td>\n      <td>0</td>\n      <td>0</td>\n      <td>0</td>\n      <td>0</td>\n      <td>...</td>\n      <td>0</td>\n      <td>0</td>\n      <td>0</td>\n      <td>0</td>\n      <td>0</td>\n      <td>0</td>\n      <td>0</td>\n      <td>0</td>\n      <td>0</td>\n      <td>0</td>\n    </tr>\n    <tr>\n      <th>4</th>\n      <td>0</td>\n      <td>0</td>\n      <td>0</td>\n      <td>0</td>\n      <td>0</td>\n      <td>0</td>\n      <td>0</td>\n      <td>0</td>\n      <td>0</td>\n      <td>0</td>\n      <td>...</td>\n      <td>0</td>\n      <td>0</td>\n      <td>0</td>\n      <td>0</td>\n      <td>0</td>\n      <td>0</td>\n      <td>0</td>\n      <td>0</td>\n      <td>0</td>\n      <td>0</td>\n    </tr>\n  </tbody>\n</table>\n<p>5 rows × 415 columns</p>\n</div>"
     },
     "execution_count": 36,
     "metadata": {},
     "output_type": "execute_result"
    }
   ],
   "source": [
    "'''添加与模型的集训练数据相比缺少的列'''\n",
    "missing_cols = set(final.columns) - set(pred_set.columns)\n",
    "for c in missing_cols:\n",
    "    pred_set[c] = 0\n",
    "pred_set = pred_set[final.columns]\n",
    "\n",
    "'''删除获胜团队列'''\n",
    "pred_set = pred_set.drop(['winning_team'], axis=1)\n",
    "\n",
    "pred_set.head()"
   ],
   "metadata": {
    "collapsed": false
   }
  },
  {
   "cell_type": "markdown",
   "source": [
    "比赛结果预测"
   ],
   "metadata": {
    "collapsed": false
   }
  },
  {
   "cell_type": "markdown",
   "source": [
    "首先，我们将模型部署到小组赛中："
   ],
   "metadata": {
    "collapsed": false
   }
  },
  {
   "cell_type": "markdown",
   "source": [
    "predict返回的是一个预测的值，predict_proba返回的是对于预测为各个类别的概率。predict_proba返回的是一个 n 行 k 列的数组， 第 i 行 j列的数值是模型预测 第 i 个预测样本为某个标签的概率，并且每一行的概率和为1。"
   ],
   "metadata": {
    "collapsed": false
   }
  },
  {
   "cell_type": "code",
   "execution_count": null,
   "metadata": {
    "pycharm": {
     "is_executing": true
    }
   },
   "outputs": [],
   "source": [
    "'''小组赛'''\n",
    "predictions = logreg.predict(pred_set)\n",
    "# print(predictions)\n",
    "for i in range(fixtures.shape[0]):\n",
    "    print(backup_pred_set.iloc[i, 1] + \" 对 \" + backup_pred_set.iloc[i, 0])\n",
    "    if predictions[i] == 2:\n",
    "        print(\"Winner: \" + backup_pred_set.iloc[i, 0])\n",
    "    elif predictions[i] == 1:\n",
    "        print(\"Draw\")\n",
    "    elif predictions[i] == 0:\n",
    "        print(\"Winner: \" + backup_pred_set.iloc[i, 1])\n",
    "    print(backup_pred_set.iloc[i, 1] + ' 胜： ', '%.3f'%(logreg.predict_proba(pred_set)[i][0]))\n",
    "    print('平局： ', '%.3f'%(logreg.predict_proba(pred_set)[i][1]))\n",
    "    print(backup_pred_set.iloc[i, 0] + ' 胜：  ', '%.3f'%(logreg.predict_proba(pred_set)[i][2]))\n",
    "    print(\"\")\n"
   ]
  },
  {
   "cell_type": "code",
   "execution_count": 38,
   "metadata": {},
   "outputs": [],
   "source": [
    "'''之前的元组列表'''\n",
    "group_16 = [('荷兰', '美国'),\n",
    "            ('阿根廷', '澳大利亚'),\n",
    "            ('日本', '克罗地亚'),\n",
    "            ('英格兰', '塞内加尔'),\n",
    "            ('法国', '波兰'),\n",
    "            ('摩洛哥', '西班牙'),\n",
    "            ('巴西', '韩国'),\n",
    "            ('葡萄牙', '瑞士')]"
   ]
  },
  {
   "cell_type": "markdown",
   "source": [
    "之后进行16强的模拟："
   ],
   "metadata": {
    "collapsed": false
   }
  },
  {
   "cell_type": "code",
   "execution_count": 39,
   "metadata": {},
   "outputs": [],
   "source": [
    "def clean_and_predict(matches, ranking, final, logreg):\n",
    "\n",
    "    '''数据清理辅助列表初始化'''\n",
    "    positions = []\n",
    "\n",
    "    '''循环以根据FIFA排名检索每个球队的位置'''\n",
    "    for match in matches:\n",
    "        positions.append(ranking.loc[ranking['Team'] == match[0],'Position'].iloc[0])\n",
    "        positions.append(ranking.loc[ranking['Team'] == match[1],'Position'].iloc[0])\n",
    "\n",
    "    '''创建预测数据表'''\n",
    "    pred_set = []\n",
    "\n",
    "    '''正在初始化while循环的迭代器'''\n",
    "    i = 0\n",
    "    j = 0\n",
    "\n",
    "    '''“i”将是“位置”列表的迭代器，“j”将是匹配列表（元组列表）'''\n",
    "    while i < len(positions):\n",
    "        dict1 = {}\n",
    "\n",
    "        '''如果第一队的位置更好，他将是“主队”，反之亦然'''\n",
    "        if positions[i] < positions[i + 1]:\n",
    "            dict1.update({'home_team': matches[j][0], 'away_team': matches[j][1]})\n",
    "        else:\n",
    "            dict1.update({'home_team': matches[j][1], 'away_team': matches[j][0]})\n",
    "\n",
    "        '''将更新的字典追加到列表中，稍后将转换为DataFrame'''\n",
    "        pred_set.append(dict1)\n",
    "        i += 2\n",
    "        j += 1\n",
    "\n",
    "    '''将列表转换为DataFrame'''\n",
    "    pred_set = pd.DataFrame(pred_set)\n",
    "    backup_pred_set = pred_set\n",
    "\n",
    "    '''获取虚拟变量并删除winning_team列'''\n",
    "    pred_set = pd.get_dummies(pred_set, prefix=['home_team', 'away_team'], columns=['home_team', 'away_team'])\n",
    "\n",
    "    '''添加与模型的训练数据集相比缺少的列'''\n",
    "    missing_cols2 = set(final.columns) - set(pred_set.columns)\n",
    "    for c in missing_cols2:\n",
    "        pred_set[c] = 0\n",
    "    pred_set = pred_set[final.columns]\n",
    "\n",
    "    '''删除获胜团队列'''\n",
    "    pred_set = pred_set.drop(['winning_team'], axis=1)\n",
    "\n",
    "    '''预言'''\n",
    "    predictions = logreg.predict(pred_set)\n",
    "    for i in range(len(pred_set)):\n",
    "        print(backup_pred_set.iloc[i, 1] + \" 对 \" + backup_pred_set.iloc[i, 0])\n",
    "        if predictions[i] == 2:\n",
    "            print(\"Winner: \" + backup_pred_set.iloc[i, 0])\n",
    "        elif predictions[i] == 1:\n",
    "            print(\"Draw\")\n",
    "        elif predictions[i] == 0:\n",
    "            print(\"获胜者： \" + backup_pred_set.iloc[i, 1])\n",
    "        print(backup_pred_set.iloc[i, 1] + ' 胜： ' , '%.3f'%(logreg.predict_proba(pred_set)[i][0]))\n",
    "        print('平局： ', '%.3f'%(logreg.predict_proba(pred_set)[i][1]))\n",
    "        print(backup_pred_set.iloc[i, 0] + ' 胜： ', '%.3f'%(logreg.predict_proba(pred_set)[i][2]))\n",
    "        print(\"\")"
   ]
  },
  {
   "cell_type": "code",
   "execution_count": 40,
   "metadata": {},
   "outputs": [
    {
     "name": "stdout",
     "output_type": "stream",
     "text": [
      "美国 对 荷兰\n",
      "Winner: 荷兰\n",
      "美国 胜：  0.104\n",
      "平局：  0.152\n",
      "荷兰 胜：  0.744\n",
      "\n",
      "澳大利亚 对 阿根廷\n",
      "Winner: 阿根廷\n",
      "澳大利亚 胜：  0.070\n",
      "平局：  0.286\n",
      "阿根廷 胜：  0.643\n",
      "\n",
      "日本 对 克罗地亚\n",
      "Winner: 克罗地亚\n",
      "日本 胜：  0.186\n",
      "平局：  0.196\n",
      "克罗地亚 胜：  0.618\n",
      "\n",
      "塞内加尔 对 英格兰\n",
      "Winner: 英格兰\n",
      "塞内加尔 胜：  0.074\n",
      "平局：  0.233\n",
      "英格兰 胜：  0.692\n",
      "\n",
      "波兰 对 法国\n",
      "Winner: 法国\n",
      "波兰 胜：  0.187\n",
      "平局：  0.246\n",
      "法国 胜：  0.567\n",
      "\n",
      "摩洛哥 对 西班牙\n",
      "Winner: 西班牙\n",
      "摩洛哥 胜：  0.112\n",
      "平局：  0.220\n",
      "西班牙 胜：  0.667\n",
      "\n",
      "韩国 对 巴西\n",
      "Winner: 巴西\n",
      "韩国 胜：  0.068\n",
      "平局：  0.189\n",
      "巴西 胜：  0.742\n",
      "\n",
      "瑞士 对 葡萄牙\n",
      "Winner: 葡萄牙\n",
      "瑞士 胜：  0.141\n",
      "平局：  0.250\n",
      "葡萄牙 胜：  0.609\n",
      "\n"
     ]
    }
   ],
   "source": [
    "clean_and_predict(group_16, ranking, final, logreg)"
   ]
  },
  {
   "cell_type": "markdown",
   "source": [
    "之后依次进行四分之一、半决赛、决赛的模拟：\n",
    "\n",
    "四分之一："
   ],
   "metadata": {
    "collapsed": false
   }
  },
  {
   "cell_type": "code",
   "execution_count": null,
   "metadata": {
    "pycharm": {
     "is_executing": true
    }
   },
   "outputs": [],
   "source": [
    "# List of matches\n",
    "# quarters = [('荷兰', '阿根廷'),\n",
    "#             ('克罗地亚', '巴西'),\n",
    "#             ('法国', '英格兰'),\n",
    "#             ('西班牙', '葡萄牙')]\n",
    "quarters = [('荷兰', '阿根廷'),\n",
    "            ('克罗地亚', '巴西'),\n",
    "            ('法国', '英格兰'),\n",
    "            ('摩洛哥', '葡萄牙')]"
   ]
  },
  {
   "cell_type": "code",
   "execution_count": 42,
   "metadata": {},
   "outputs": [
    {
     "name": "stdout",
     "output_type": "stream",
     "text": [
      "荷兰 对 阿根廷\n",
      "Winner: 阿根廷\n",
      "荷兰 胜：  0.235\n",
      "平局：  0.312\n",
      "阿根廷 胜：  0.453\n",
      "\n",
      "克罗地亚 对 巴西\n",
      "Winner: 巴西\n",
      "克罗地亚 胜：  0.133\n",
      "平局：  0.209\n",
      "巴西 胜：  0.659\n",
      "\n",
      "英格兰 对 法国\n",
      "Winner: 法国\n",
      "英格兰 胜：  0.272\n",
      "平局：  0.354\n",
      "法国 胜：  0.375\n",
      "\n",
      "摩洛哥 对 葡萄牙\n",
      "Winner: 葡萄牙\n",
      "摩洛哥 胜：  0.124\n",
      "平局：  0.314\n",
      "葡萄牙 胜：  0.562\n",
      "\n"
     ]
    }
   ],
   "source": [
    "clean_and_predict(quarters, ranking, final, logreg)"
   ]
  },
  {
   "cell_type": "markdown",
   "source": [
    "半决赛："
   ],
   "metadata": {
    "collapsed": false
   }
  },
  {
   "cell_type": "code",
   "execution_count": 43,
   "metadata": {},
   "outputs": [],
   "source": [
    "# List of matches\n",
    "# semi = [('法国', '西班牙'),\n",
    "#         ('阿根廷', '巴西')]\n",
    "semi = [('法国', '葡萄牙'),\n",
    "        ('阿根廷', '巴西')]"
   ]
  },
  {
   "cell_type": "code",
   "execution_count": 44,
   "metadata": {},
   "outputs": [
    {
     "name": "stdout",
     "output_type": "stream",
     "text": [
      "葡萄牙 对 法国\n",
      "Winner: 法国\n",
      "葡萄牙 胜：  0.240\n",
      "平局：  0.263\n",
      "法国 胜：  0.497\n",
      "\n",
      "阿根廷 对 巴西\n",
      "Winner: 巴西\n",
      "阿根廷 胜：  0.169\n",
      "平局：  0.264\n",
      "巴西 胜：  0.567\n",
      "\n"
     ]
    }
   ],
   "source": [
    "clean_and_predict(semi, ranking, final, logreg)"
   ]
  },
  {
   "cell_type": "markdown",
   "source": [
    "决赛："
   ],
   "metadata": {
    "collapsed": false
   }
  },
  {
   "cell_type": "code",
   "execution_count": 45,
   "metadata": {},
   "outputs": [],
   "source": [
    "# Finals\n",
    "finals = [('巴西', '法国')]"
   ]
  },
  {
   "cell_type": "code",
   "execution_count": 46,
   "metadata": {},
   "outputs": [
    {
     "name": "stdout",
     "output_type": "stream",
     "text": [
      "法国 对 巴西\n",
      "Winner: 巴西\n",
      "法国 胜：  0.237\n",
      "平局：  0.254\n",
      "巴西 胜：  0.509\n",
      "\n"
     ]
    }
   ],
   "source": [
    "clean_and_predict(finals, ranking, final, logreg)"
   ]
  },
  {
   "cell_type": "code",
   "execution_count": 47,
   "outputs": [
    {
     "data": {
      "text/plain": "'根据该模型，巴西将有可能获得本届世界杯的冠军。'"
     },
     "execution_count": 47,
     "metadata": {},
     "output_type": "execute_result"
    }
   ],
   "source": [
    "'''根据该模型，巴西将有可能获得本届世界杯的冠军。'''"
   ],
   "metadata": {
    "collapsed": false
   }
  }
 ],
 "metadata": {
  "kernelspec": {
   "display_name": "Python 3",
   "language": "python",
   "name": "python3"
  },
  "language_info": {
   "codemirror_mode": {
    "name": "ipython",
    "version": 3
   },
   "file_extension": ".py",
   "mimetype": "text/x-python",
   "name": "python",
   "nbconvert_exporter": "python",
   "pygments_lexer": "ipython3",
   "version": "3.6.4"
  }
 },
 "nbformat": 4,
 "nbformat_minor": 2
}
